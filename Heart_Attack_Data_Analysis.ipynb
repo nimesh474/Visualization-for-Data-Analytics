{
 "cells": [
  {
   "cell_type": "code",
   "execution_count": 1,
   "id": "60e69e85-0a52-4dfd-b4a1-30a0e88351f8",
   "metadata": {},
   "outputs": [],
   "source": [
    "# import all dependencies\n",
    "import pandas as pd\n",
    "import numpy as np\n",
    "import matplotlib.pyplot as plt\n",
    "import seaborn as sns\n",
    "import warnings\n",
    "warnings.filterwarnings('ignore')"
   ]
  },
  {
   "cell_type": "code",
   "execution_count": 2,
   "id": "ab42bccd-faba-4a92-aa5e-53f4e9632cf0",
   "metadata": {},
   "outputs": [],
   "source": [
    "# load csv dataset\n",
    "df = pd.read_csv('heart_2022_with_nans.csv')"
   ]
  },
  {
   "cell_type": "code",
   "execution_count": 3,
   "id": "2196d9f8-c4d5-4b62-a66e-1f113aa16314",
   "metadata": {},
   "outputs": [
    {
     "data": {
      "text/html": [
       "<div>\n",
       "<style scoped>\n",
       "    .dataframe tbody tr th:only-of-type {\n",
       "        vertical-align: middle;\n",
       "    }\n",
       "\n",
       "    .dataframe tbody tr th {\n",
       "        vertical-align: top;\n",
       "    }\n",
       "\n",
       "    .dataframe thead th {\n",
       "        text-align: right;\n",
       "    }\n",
       "</style>\n",
       "<table border=\"1\" class=\"dataframe\">\n",
       "  <thead>\n",
       "    <tr style=\"text-align: right;\">\n",
       "      <th></th>\n",
       "      <th>State</th>\n",
       "      <th>Sex</th>\n",
       "      <th>GeneralHealth</th>\n",
       "      <th>PhysicalHealthDays</th>\n",
       "      <th>MentalHealthDays</th>\n",
       "      <th>LastCheckupTime</th>\n",
       "      <th>PhysicalActivities</th>\n",
       "      <th>SleepHours</th>\n",
       "      <th>RemovedTeeth</th>\n",
       "      <th>HadHeartAttack</th>\n",
       "      <th>...</th>\n",
       "      <th>HeightInMeters</th>\n",
       "      <th>WeightInKilograms</th>\n",
       "      <th>BMI</th>\n",
       "      <th>AlcoholDrinkers</th>\n",
       "      <th>HIVTesting</th>\n",
       "      <th>FluVaxLast12</th>\n",
       "      <th>PneumoVaxEver</th>\n",
       "      <th>TetanusLast10Tdap</th>\n",
       "      <th>HighRiskLastYear</th>\n",
       "      <th>CovidPos</th>\n",
       "    </tr>\n",
       "  </thead>\n",
       "  <tbody>\n",
       "    <tr>\n",
       "      <th>0</th>\n",
       "      <td>Alabama</td>\n",
       "      <td>Female</td>\n",
       "      <td>Very good</td>\n",
       "      <td>0.0</td>\n",
       "      <td>0.0</td>\n",
       "      <td>Within past year (anytime less than 12 months ...</td>\n",
       "      <td>No</td>\n",
       "      <td>8.0</td>\n",
       "      <td>NaN</td>\n",
       "      <td>No</td>\n",
       "      <td>...</td>\n",
       "      <td>NaN</td>\n",
       "      <td>NaN</td>\n",
       "      <td>NaN</td>\n",
       "      <td>No</td>\n",
       "      <td>No</td>\n",
       "      <td>Yes</td>\n",
       "      <td>No</td>\n",
       "      <td>Yes, received tetanus shot but not sure what type</td>\n",
       "      <td>No</td>\n",
       "      <td>No</td>\n",
       "    </tr>\n",
       "    <tr>\n",
       "      <th>1</th>\n",
       "      <td>Alabama</td>\n",
       "      <td>Female</td>\n",
       "      <td>Excellent</td>\n",
       "      <td>0.0</td>\n",
       "      <td>0.0</td>\n",
       "      <td>NaN</td>\n",
       "      <td>No</td>\n",
       "      <td>6.0</td>\n",
       "      <td>NaN</td>\n",
       "      <td>No</td>\n",
       "      <td>...</td>\n",
       "      <td>1.60</td>\n",
       "      <td>68.04</td>\n",
       "      <td>26.57</td>\n",
       "      <td>No</td>\n",
       "      <td>No</td>\n",
       "      <td>No</td>\n",
       "      <td>No</td>\n",
       "      <td>No, did not receive any tetanus shot in the pa...</td>\n",
       "      <td>No</td>\n",
       "      <td>No</td>\n",
       "    </tr>\n",
       "    <tr>\n",
       "      <th>2</th>\n",
       "      <td>Alabama</td>\n",
       "      <td>Female</td>\n",
       "      <td>Very good</td>\n",
       "      <td>2.0</td>\n",
       "      <td>3.0</td>\n",
       "      <td>Within past year (anytime less than 12 months ...</td>\n",
       "      <td>Yes</td>\n",
       "      <td>5.0</td>\n",
       "      <td>NaN</td>\n",
       "      <td>No</td>\n",
       "      <td>...</td>\n",
       "      <td>1.57</td>\n",
       "      <td>63.50</td>\n",
       "      <td>25.61</td>\n",
       "      <td>No</td>\n",
       "      <td>No</td>\n",
       "      <td>No</td>\n",
       "      <td>No</td>\n",
       "      <td>NaN</td>\n",
       "      <td>No</td>\n",
       "      <td>Yes</td>\n",
       "    </tr>\n",
       "    <tr>\n",
       "      <th>3</th>\n",
       "      <td>Alabama</td>\n",
       "      <td>Female</td>\n",
       "      <td>Excellent</td>\n",
       "      <td>0.0</td>\n",
       "      <td>0.0</td>\n",
       "      <td>Within past year (anytime less than 12 months ...</td>\n",
       "      <td>Yes</td>\n",
       "      <td>7.0</td>\n",
       "      <td>NaN</td>\n",
       "      <td>No</td>\n",
       "      <td>...</td>\n",
       "      <td>1.65</td>\n",
       "      <td>63.50</td>\n",
       "      <td>23.30</td>\n",
       "      <td>No</td>\n",
       "      <td>No</td>\n",
       "      <td>Yes</td>\n",
       "      <td>Yes</td>\n",
       "      <td>No, did not receive any tetanus shot in the pa...</td>\n",
       "      <td>No</td>\n",
       "      <td>No</td>\n",
       "    </tr>\n",
       "    <tr>\n",
       "      <th>4</th>\n",
       "      <td>Alabama</td>\n",
       "      <td>Female</td>\n",
       "      <td>Fair</td>\n",
       "      <td>2.0</td>\n",
       "      <td>0.0</td>\n",
       "      <td>Within past year (anytime less than 12 months ...</td>\n",
       "      <td>Yes</td>\n",
       "      <td>9.0</td>\n",
       "      <td>NaN</td>\n",
       "      <td>No</td>\n",
       "      <td>...</td>\n",
       "      <td>1.57</td>\n",
       "      <td>53.98</td>\n",
       "      <td>21.77</td>\n",
       "      <td>Yes</td>\n",
       "      <td>No</td>\n",
       "      <td>No</td>\n",
       "      <td>Yes</td>\n",
       "      <td>No, did not receive any tetanus shot in the pa...</td>\n",
       "      <td>No</td>\n",
       "      <td>No</td>\n",
       "    </tr>\n",
       "  </tbody>\n",
       "</table>\n",
       "<p>5 rows × 40 columns</p>\n",
       "</div>"
      ],
      "text/plain": [
       "     State     Sex GeneralHealth  PhysicalHealthDays  MentalHealthDays  \\\n",
       "0  Alabama  Female     Very good                 0.0               0.0   \n",
       "1  Alabama  Female     Excellent                 0.0               0.0   \n",
       "2  Alabama  Female     Very good                 2.0               3.0   \n",
       "3  Alabama  Female     Excellent                 0.0               0.0   \n",
       "4  Alabama  Female          Fair                 2.0               0.0   \n",
       "\n",
       "                                     LastCheckupTime PhysicalActivities  \\\n",
       "0  Within past year (anytime less than 12 months ...                 No   \n",
       "1                                                NaN                 No   \n",
       "2  Within past year (anytime less than 12 months ...                Yes   \n",
       "3  Within past year (anytime less than 12 months ...                Yes   \n",
       "4  Within past year (anytime less than 12 months ...                Yes   \n",
       "\n",
       "   SleepHours RemovedTeeth HadHeartAttack  ... HeightInMeters  \\\n",
       "0         8.0          NaN             No  ...            NaN   \n",
       "1         6.0          NaN             No  ...           1.60   \n",
       "2         5.0          NaN             No  ...           1.57   \n",
       "3         7.0          NaN             No  ...           1.65   \n",
       "4         9.0          NaN             No  ...           1.57   \n",
       "\n",
       "  WeightInKilograms    BMI AlcoholDrinkers HIVTesting FluVaxLast12  \\\n",
       "0               NaN    NaN              No         No          Yes   \n",
       "1             68.04  26.57              No         No           No   \n",
       "2             63.50  25.61              No         No           No   \n",
       "3             63.50  23.30              No         No          Yes   \n",
       "4             53.98  21.77             Yes         No           No   \n",
       "\n",
       "  PneumoVaxEver                                  TetanusLast10Tdap  \\\n",
       "0            No  Yes, received tetanus shot but not sure what type   \n",
       "1            No  No, did not receive any tetanus shot in the pa...   \n",
       "2            No                                                NaN   \n",
       "3           Yes  No, did not receive any tetanus shot in the pa...   \n",
       "4           Yes  No, did not receive any tetanus shot in the pa...   \n",
       "\n",
       "  HighRiskLastYear CovidPos  \n",
       "0               No       No  \n",
       "1               No       No  \n",
       "2               No      Yes  \n",
       "3               No       No  \n",
       "4               No       No  \n",
       "\n",
       "[5 rows x 40 columns]"
      ]
     },
     "execution_count": 3,
     "metadata": {},
     "output_type": "execute_result"
    }
   ],
   "source": [
    "# display first 5 data\n",
    "df.head()"
   ]
  },
  {
   "cell_type": "code",
   "execution_count": 4,
   "id": "457dbd86-1de1-49a3-b2b9-fa59fbe8988d",
   "metadata": {},
   "outputs": [
    {
     "data": {
      "text/html": [
       "<div>\n",
       "<style scoped>\n",
       "    .dataframe tbody tr th:only-of-type {\n",
       "        vertical-align: middle;\n",
       "    }\n",
       "\n",
       "    .dataframe tbody tr th {\n",
       "        vertical-align: top;\n",
       "    }\n",
       "\n",
       "    .dataframe thead th {\n",
       "        text-align: right;\n",
       "    }\n",
       "</style>\n",
       "<table border=\"1\" class=\"dataframe\">\n",
       "  <thead>\n",
       "    <tr style=\"text-align: right;\">\n",
       "      <th></th>\n",
       "      <th>State</th>\n",
       "      <th>Sex</th>\n",
       "      <th>GeneralHealth</th>\n",
       "      <th>PhysicalHealthDays</th>\n",
       "      <th>MentalHealthDays</th>\n",
       "      <th>LastCheckupTime</th>\n",
       "      <th>PhysicalActivities</th>\n",
       "      <th>SleepHours</th>\n",
       "      <th>RemovedTeeth</th>\n",
       "      <th>HadHeartAttack</th>\n",
       "      <th>...</th>\n",
       "      <th>HeightInMeters</th>\n",
       "      <th>WeightInKilograms</th>\n",
       "      <th>BMI</th>\n",
       "      <th>AlcoholDrinkers</th>\n",
       "      <th>HIVTesting</th>\n",
       "      <th>FluVaxLast12</th>\n",
       "      <th>PneumoVaxEver</th>\n",
       "      <th>TetanusLast10Tdap</th>\n",
       "      <th>HighRiskLastYear</th>\n",
       "      <th>CovidPos</th>\n",
       "    </tr>\n",
       "  </thead>\n",
       "  <tbody>\n",
       "    <tr>\n",
       "      <th>445127</th>\n",
       "      <td>Virgin Islands</td>\n",
       "      <td>Female</td>\n",
       "      <td>Good</td>\n",
       "      <td>0.0</td>\n",
       "      <td>3.0</td>\n",
       "      <td>Within past 2 years (1 year but less than 2 ye...</td>\n",
       "      <td>Yes</td>\n",
       "      <td>6.0</td>\n",
       "      <td>None of them</td>\n",
       "      <td>No</td>\n",
       "      <td>...</td>\n",
       "      <td>1.65</td>\n",
       "      <td>69.85</td>\n",
       "      <td>25.63</td>\n",
       "      <td>NaN</td>\n",
       "      <td>Yes</td>\n",
       "      <td>No</td>\n",
       "      <td>No</td>\n",
       "      <td>No, did not receive any tetanus shot in the pa...</td>\n",
       "      <td>No</td>\n",
       "      <td>Yes</td>\n",
       "    </tr>\n",
       "    <tr>\n",
       "      <th>445128</th>\n",
       "      <td>Virgin Islands</td>\n",
       "      <td>Female</td>\n",
       "      <td>Excellent</td>\n",
       "      <td>2.0</td>\n",
       "      <td>2.0</td>\n",
       "      <td>Within past year (anytime less than 12 months ...</td>\n",
       "      <td>Yes</td>\n",
       "      <td>7.0</td>\n",
       "      <td>None of them</td>\n",
       "      <td>No</td>\n",
       "      <td>...</td>\n",
       "      <td>1.70</td>\n",
       "      <td>83.01</td>\n",
       "      <td>28.66</td>\n",
       "      <td>No</td>\n",
       "      <td>Yes</td>\n",
       "      <td>Yes</td>\n",
       "      <td>No</td>\n",
       "      <td>Yes, received tetanus shot but not sure what type</td>\n",
       "      <td>No</td>\n",
       "      <td>No</td>\n",
       "    </tr>\n",
       "    <tr>\n",
       "      <th>445129</th>\n",
       "      <td>Virgin Islands</td>\n",
       "      <td>Female</td>\n",
       "      <td>Poor</td>\n",
       "      <td>30.0</td>\n",
       "      <td>30.0</td>\n",
       "      <td>5 or more years ago</td>\n",
       "      <td>No</td>\n",
       "      <td>5.0</td>\n",
       "      <td>1 to 5</td>\n",
       "      <td>No</td>\n",
       "      <td>...</td>\n",
       "      <td>1.70</td>\n",
       "      <td>49.90</td>\n",
       "      <td>17.23</td>\n",
       "      <td>NaN</td>\n",
       "      <td>No</td>\n",
       "      <td>No</td>\n",
       "      <td>No</td>\n",
       "      <td>No, did not receive any tetanus shot in the pa...</td>\n",
       "      <td>No</td>\n",
       "      <td>No</td>\n",
       "    </tr>\n",
       "    <tr>\n",
       "      <th>445130</th>\n",
       "      <td>Virgin Islands</td>\n",
       "      <td>Male</td>\n",
       "      <td>Very good</td>\n",
       "      <td>0.0</td>\n",
       "      <td>0.0</td>\n",
       "      <td>Within past year (anytime less than 12 months ...</td>\n",
       "      <td>No</td>\n",
       "      <td>5.0</td>\n",
       "      <td>None of them</td>\n",
       "      <td>Yes</td>\n",
       "      <td>...</td>\n",
       "      <td>1.83</td>\n",
       "      <td>108.86</td>\n",
       "      <td>32.55</td>\n",
       "      <td>No</td>\n",
       "      <td>Yes</td>\n",
       "      <td>Yes</td>\n",
       "      <td>Yes</td>\n",
       "      <td>No, did not receive any tetanus shot in the pa...</td>\n",
       "      <td>No</td>\n",
       "      <td>Yes</td>\n",
       "    </tr>\n",
       "    <tr>\n",
       "      <th>445131</th>\n",
       "      <td>Virgin Islands</td>\n",
       "      <td>Male</td>\n",
       "      <td>Very good</td>\n",
       "      <td>0.0</td>\n",
       "      <td>1.0</td>\n",
       "      <td>NaN</td>\n",
       "      <td>Yes</td>\n",
       "      <td>5.0</td>\n",
       "      <td>None of them</td>\n",
       "      <td>No</td>\n",
       "      <td>...</td>\n",
       "      <td>1.68</td>\n",
       "      <td>63.50</td>\n",
       "      <td>22.60</td>\n",
       "      <td>Yes</td>\n",
       "      <td>No</td>\n",
       "      <td>No</td>\n",
       "      <td>No</td>\n",
       "      <td>Yes, received tetanus shot but not sure what type</td>\n",
       "      <td>No</td>\n",
       "      <td>No</td>\n",
       "    </tr>\n",
       "  </tbody>\n",
       "</table>\n",
       "<p>5 rows × 40 columns</p>\n",
       "</div>"
      ],
      "text/plain": [
       "                 State     Sex GeneralHealth  PhysicalHealthDays  \\\n",
       "445127  Virgin Islands  Female          Good                 0.0   \n",
       "445128  Virgin Islands  Female     Excellent                 2.0   \n",
       "445129  Virgin Islands  Female          Poor                30.0   \n",
       "445130  Virgin Islands    Male     Very good                 0.0   \n",
       "445131  Virgin Islands    Male     Very good                 0.0   \n",
       "\n",
       "        MentalHealthDays                                    LastCheckupTime  \\\n",
       "445127               3.0  Within past 2 years (1 year but less than 2 ye...   \n",
       "445128               2.0  Within past year (anytime less than 12 months ...   \n",
       "445129              30.0                                5 or more years ago   \n",
       "445130               0.0  Within past year (anytime less than 12 months ...   \n",
       "445131               1.0                                                NaN   \n",
       "\n",
       "       PhysicalActivities  SleepHours  RemovedTeeth HadHeartAttack  ...  \\\n",
       "445127                Yes         6.0  None of them             No  ...   \n",
       "445128                Yes         7.0  None of them             No  ...   \n",
       "445129                 No         5.0        1 to 5             No  ...   \n",
       "445130                 No         5.0  None of them            Yes  ...   \n",
       "445131                Yes         5.0  None of them             No  ...   \n",
       "\n",
       "       HeightInMeters WeightInKilograms    BMI AlcoholDrinkers HIVTesting  \\\n",
       "445127           1.65             69.85  25.63             NaN        Yes   \n",
       "445128           1.70             83.01  28.66              No        Yes   \n",
       "445129           1.70             49.90  17.23             NaN         No   \n",
       "445130           1.83            108.86  32.55              No        Yes   \n",
       "445131           1.68             63.50  22.60             Yes         No   \n",
       "\n",
       "       FluVaxLast12 PneumoVaxEver  \\\n",
       "445127           No            No   \n",
       "445128          Yes            No   \n",
       "445129           No            No   \n",
       "445130          Yes           Yes   \n",
       "445131           No            No   \n",
       "\n",
       "                                        TetanusLast10Tdap HighRiskLastYear  \\\n",
       "445127  No, did not receive any tetanus shot in the pa...               No   \n",
       "445128  Yes, received tetanus shot but not sure what type               No   \n",
       "445129  No, did not receive any tetanus shot in the pa...               No   \n",
       "445130  No, did not receive any tetanus shot in the pa...               No   \n",
       "445131  Yes, received tetanus shot but not sure what type               No   \n",
       "\n",
       "       CovidPos  \n",
       "445127      Yes  \n",
       "445128       No  \n",
       "445129       No  \n",
       "445130      Yes  \n",
       "445131       No  \n",
       "\n",
       "[5 rows x 40 columns]"
      ]
     },
     "execution_count": 4,
     "metadata": {},
     "output_type": "execute_result"
    }
   ],
   "source": [
    "# display last 5 data\n",
    "df.tail()"
   ]
  },
  {
   "cell_type": "code",
   "execution_count": 5,
   "id": "ca4ca6d7-3674-491c-9388-c5b98991cd32",
   "metadata": {},
   "outputs": [
    {
     "data": {
      "text/plain": [
       "(445132, 40)"
      ]
     },
     "execution_count": 5,
     "metadata": {},
     "output_type": "execute_result"
    }
   ],
   "source": [
    "# shape of the dataframe (rows, columns)\n",
    "df.shape"
   ]
  },
  {
   "cell_type": "code",
   "execution_count": 6,
   "id": "cfb5cfd4-2c56-4bc7-8a9a-1fa1d141a77d",
   "metadata": {},
   "outputs": [
    {
     "data": {
      "text/plain": [
       "17805280"
      ]
     },
     "execution_count": 6,
     "metadata": {},
     "output_type": "execute_result"
    }
   ],
   "source": [
    "# size of the dataframe\n",
    "df.size"
   ]
  },
  {
   "cell_type": "code",
   "execution_count": 7,
   "id": "66f46376-aca4-4eed-a504-bdcc5c489da9",
   "metadata": {},
   "outputs": [
    {
     "data": {
      "text/plain": [
       "Index(['State', 'Sex', 'GeneralHealth', 'PhysicalHealthDays',\n",
       "       'MentalHealthDays', 'LastCheckupTime', 'PhysicalActivities',\n",
       "       'SleepHours', 'RemovedTeeth', 'HadHeartAttack', 'HadAngina',\n",
       "       'HadStroke', 'HadAsthma', 'HadSkinCancer', 'HadCOPD',\n",
       "       'HadDepressiveDisorder', 'HadKidneyDisease', 'HadArthritis',\n",
       "       'HadDiabetes', 'DeafOrHardOfHearing', 'BlindOrVisionDifficulty',\n",
       "       'DifficultyConcentrating', 'DifficultyWalking',\n",
       "       'DifficultyDressingBathing', 'DifficultyErrands', 'SmokerStatus',\n",
       "       'ECigaretteUsage', 'ChestScan', 'RaceEthnicityCategory', 'AgeCategory',\n",
       "       'HeightInMeters', 'WeightInKilograms', 'BMI', 'AlcoholDrinkers',\n",
       "       'HIVTesting', 'FluVaxLast12', 'PneumoVaxEver', 'TetanusLast10Tdap',\n",
       "       'HighRiskLastYear', 'CovidPos'],\n",
       "      dtype='object')"
      ]
     },
     "execution_count": 7,
     "metadata": {},
     "output_type": "execute_result"
    }
   ],
   "source": [
    "# list of columns\n",
    "df.columns"
   ]
  },
  {
   "cell_type": "code",
   "execution_count": 8,
   "id": "10fdca36-aa7c-48a9-a400-fe8cc36d041a",
   "metadata": {},
   "outputs": [],
   "source": [
    "# apply lowercase to columns\n",
    "df.columns = df.columns.str.lower()"
   ]
  },
  {
   "cell_type": "code",
   "execution_count": 9,
   "id": "de37bfc0-10a0-4418-a664-2d938f266b3a",
   "metadata": {},
   "outputs": [
    {
     "data": {
      "text/plain": [
       "54"
      ]
     },
     "execution_count": 9,
     "metadata": {},
     "output_type": "execute_result"
    }
   ],
   "source": [
    "# number of states\n",
    "len(df['state'].value_counts())"
   ]
  },
  {
   "cell_type": "markdown",
   "id": "ef3ee749-7eb0-49f8-91c9-7c122aff4c52",
   "metadata": {},
   "source": [
    "# Pre-Processing\n",
    "## Data Sampling"
   ]
  },
  {
   "cell_type": "code",
   "execution_count": 10,
   "id": "8e4208f3-1711-424b-9945-fa90fc4cf3c0",
   "metadata": {},
   "outputs": [],
   "source": [
    "# Group by the 'State' column\n",
    "grouped = df.groupby('state')\n",
    "\n",
    "# Define the number of rows to sample from each group\n",
    "num_rows_per_group = 50000 // len(grouped)\n",
    "\n",
    "# Sample from each group and concatenate the results\n",
    "sampled_df = grouped.apply(lambda x: x.sample(n=num_rows_per_group, random_state=1)).reset_index(drop=True)\n",
    "\n",
    "# If the total rows are more than 50000 due to rounding, randomly select 50000 rows from the resulting dataframe\n",
    "if len(sampled_df) > 50000:\n",
    "    sampled_df = sampled_df.sample(n=50000, random_state=1)\n",
    "\n",
    "# Display the resulting dataframe\n",
    "sample_df = pd.DataFrame(sampled_df)"
   ]
  },
  {
   "cell_type": "code",
   "execution_count": 11,
   "id": "961c3825-a0b2-4446-b4c6-43493d4fe61b",
   "metadata": {},
   "outputs": [
    {
     "data": {
      "text/plain": [
       "(49950, 40)"
      ]
     },
     "execution_count": 11,
     "metadata": {},
     "output_type": "execute_result"
    }
   ],
   "source": [
    "# (rows, columns) of sampled data\n",
    "sample_df.shape"
   ]
  },
  {
   "cell_type": "markdown",
   "id": "36ee11b3-aa31-4a3b-b882-902df0a0ce2e",
   "metadata": {},
   "source": [
    "## Column Sampling"
   ]
  },
  {
   "cell_type": "code",
   "execution_count": 12,
   "id": "dcb8fd3f-4173-48c4-a63e-e12a3b834a1d",
   "metadata": {},
   "outputs": [],
   "source": [
    "columns = ['state', 'sex', 'generalhealth', 'physicalactivities', 'sleephours', 'hadstroke','hadheartattack', 'hadasthma', 'hadkidneydisease', 'haddiabetes', 'smokerstatus' , 'agecategory', 'heightinmeters', 'weightinkilograms', 'bmi', 'alcoholdrinkers']\n",
    "df1 = pd.DataFrame(sample_df, columns=columns)"
   ]
  },
  {
   "cell_type": "code",
   "execution_count": 13,
   "id": "8e68c1fe-9972-4758-90ec-c2b41b01eef1",
   "metadata": {},
   "outputs": [
    {
     "data": {
      "text/html": [
       "<div>\n",
       "<style scoped>\n",
       "    .dataframe tbody tr th:only-of-type {\n",
       "        vertical-align: middle;\n",
       "    }\n",
       "\n",
       "    .dataframe tbody tr th {\n",
       "        vertical-align: top;\n",
       "    }\n",
       "\n",
       "    .dataframe thead th {\n",
       "        text-align: right;\n",
       "    }\n",
       "</style>\n",
       "<table border=\"1\" class=\"dataframe\">\n",
       "  <thead>\n",
       "    <tr style=\"text-align: right;\">\n",
       "      <th>state</th>\n",
       "      <th>Alabama</th>\n",
       "      <th>Puerto Rico</th>\n",
       "      <th>Nevada</th>\n",
       "      <th>New Hampshire</th>\n",
       "      <th>New Jersey</th>\n",
       "      <th>New Mexico</th>\n",
       "      <th>New York</th>\n",
       "      <th>North Carolina</th>\n",
       "      <th>North Dakota</th>\n",
       "      <th>Ohio</th>\n",
       "      <th>...</th>\n",
       "      <th>Iowa</th>\n",
       "      <th>Kansas</th>\n",
       "      <th>Kentucky</th>\n",
       "      <th>Louisiana</th>\n",
       "      <th>Maine</th>\n",
       "      <th>Maryland</th>\n",
       "      <th>Massachusetts</th>\n",
       "      <th>Michigan</th>\n",
       "      <th>Minnesota</th>\n",
       "      <th>Wyoming</th>\n",
       "    </tr>\n",
       "  </thead>\n",
       "  <tbody>\n",
       "    <tr>\n",
       "      <th>count</th>\n",
       "      <td>925</td>\n",
       "      <td>925</td>\n",
       "      <td>925</td>\n",
       "      <td>925</td>\n",
       "      <td>925</td>\n",
       "      <td>925</td>\n",
       "      <td>925</td>\n",
       "      <td>925</td>\n",
       "      <td>925</td>\n",
       "      <td>925</td>\n",
       "      <td>...</td>\n",
       "      <td>925</td>\n",
       "      <td>925</td>\n",
       "      <td>925</td>\n",
       "      <td>925</td>\n",
       "      <td>925</td>\n",
       "      <td>925</td>\n",
       "      <td>925</td>\n",
       "      <td>925</td>\n",
       "      <td>925</td>\n",
       "      <td>925</td>\n",
       "    </tr>\n",
       "  </tbody>\n",
       "</table>\n",
       "<p>1 rows × 54 columns</p>\n",
       "</div>"
      ],
      "text/plain": [
       "state  Alabama  Puerto Rico  Nevada  New Hampshire  New Jersey  New Mexico  \\\n",
       "count      925          925     925            925         925         925   \n",
       "\n",
       "state  New York  North Carolina  North Dakota  Ohio  ...  Iowa  Kansas  \\\n",
       "count       925             925           925   925  ...   925     925   \n",
       "\n",
       "state  Kentucky  Louisiana  Maine  Maryland  Massachusetts  Michigan  \\\n",
       "count       925        925    925       925            925       925   \n",
       "\n",
       "state  Minnesota  Wyoming  \n",
       "count        925      925  \n",
       "\n",
       "[1 rows x 54 columns]"
      ]
     },
     "execution_count": 13,
     "metadata": {},
     "output_type": "execute_result"
    }
   ],
   "source": [
    "# count of sample data for each state\n",
    "pd.DataFrame(df1['state'].value_counts()).T"
   ]
  },
  {
   "cell_type": "code",
   "execution_count": 14,
   "id": "f3a25e68-8295-4518-8ded-e26edaa5962f",
   "metadata": {},
   "outputs": [
    {
     "data": {
      "text/html": [
       "<div>\n",
       "<style scoped>\n",
       "    .dataframe tbody tr th:only-of-type {\n",
       "        vertical-align: middle;\n",
       "    }\n",
       "\n",
       "    .dataframe tbody tr th {\n",
       "        vertical-align: top;\n",
       "    }\n",
       "\n",
       "    .dataframe thead th {\n",
       "        text-align: right;\n",
       "    }\n",
       "</style>\n",
       "<table border=\"1\" class=\"dataframe\">\n",
       "  <thead>\n",
       "    <tr style=\"text-align: right;\">\n",
       "      <th>state</th>\n",
       "      <th>Washington</th>\n",
       "      <th>New York</th>\n",
       "      <th>Minnesota</th>\n",
       "      <th>Ohio</th>\n",
       "      <th>Maryland</th>\n",
       "      <th>Texas</th>\n",
       "      <th>Florida</th>\n",
       "      <th>Wisconsin</th>\n",
       "      <th>Kansas</th>\n",
       "      <th>Massachusetts</th>\n",
       "      <th>...</th>\n",
       "      <th>Mississippi</th>\n",
       "      <th>North Dakota</th>\n",
       "      <th>Wyoming</th>\n",
       "      <th>Illinois</th>\n",
       "      <th>Kentucky</th>\n",
       "      <th>Delaware</th>\n",
       "      <th>District of Columbia</th>\n",
       "      <th>Nevada</th>\n",
       "      <th>Guam</th>\n",
       "      <th>Virgin Islands</th>\n",
       "    </tr>\n",
       "  </thead>\n",
       "  <tbody>\n",
       "    <tr>\n",
       "      <th>count</th>\n",
       "      <td>26152</td>\n",
       "      <td>17800</td>\n",
       "      <td>16821</td>\n",
       "      <td>16487</td>\n",
       "      <td>16418</td>\n",
       "      <td>14245</td>\n",
       "      <td>13393</td>\n",
       "      <td>11276</td>\n",
       "      <td>11247</td>\n",
       "      <td>11029</td>\n",
       "      <td>...</td>\n",
       "      <td>4239</td>\n",
       "      <td>4153</td>\n",
       "      <td>4142</td>\n",
       "      <td>4056</td>\n",
       "      <td>4023</td>\n",
       "      <td>3987</td>\n",
       "      <td>3237</td>\n",
       "      <td>3188</td>\n",
       "      <td>2266</td>\n",
       "      <td>1531</td>\n",
       "    </tr>\n",
       "  </tbody>\n",
       "</table>\n",
       "<p>1 rows × 54 columns</p>\n",
       "</div>"
      ],
      "text/plain": [
       "state  Washington  New York  Minnesota   Ohio  Maryland  Texas  Florida  \\\n",
       "count       26152     17800      16821  16487     16418  14245    13393   \n",
       "\n",
       "state  Wisconsin  Kansas  Massachusetts  ...  Mississippi  North Dakota  \\\n",
       "count      11276   11247          11029  ...         4239          4153   \n",
       "\n",
       "state  Wyoming  Illinois  Kentucky  Delaware  District of Columbia  Nevada  \\\n",
       "count     4142      4056      4023      3987                  3237    3188   \n",
       "\n",
       "state  Guam  Virgin Islands  \n",
       "count  2266            1531  \n",
       "\n",
       "[1 rows x 54 columns]"
      ]
     },
     "execution_count": 14,
     "metadata": {},
     "output_type": "execute_result"
    }
   ],
   "source": [
    "# count of original data for each state\n",
    "pd.DataFrame(df['state'].value_counts()).T"
   ]
  },
  {
   "cell_type": "code",
   "execution_count": 15,
   "id": "325025ea-5e3b-44b2-90cd-fb405dc94bba",
   "metadata": {},
   "outputs": [
    {
     "data": {
      "text/plain": [
       "state                  object\n",
       "sex                    object\n",
       "generalhealth          object\n",
       "physicalactivities     object\n",
       "sleephours            float64\n",
       "hadstroke              object\n",
       "hadheartattack         object\n",
       "hadasthma              object\n",
       "hadkidneydisease       object\n",
       "haddiabetes            object\n",
       "smokerstatus           object\n",
       "agecategory            object\n",
       "heightinmeters        float64\n",
       "weightinkilograms     float64\n",
       "bmi                   float64\n",
       "alcoholdrinkers        object\n",
       "dtype: object"
      ]
     },
     "execution_count": 15,
     "metadata": {},
     "output_type": "execute_result"
    }
   ],
   "source": [
    "# datatype of columns\n",
    "df1.dtypes"
   ]
  },
  {
   "cell_type": "code",
   "execution_count": 16,
   "id": "327b60a6-a36e-430d-b31f-ab51e3c001b2",
   "metadata": {},
   "outputs": [
    {
     "name": "stdout",
     "output_type": "stream",
     "text": [
      "<class 'pandas.core.frame.DataFrame'>\n",
      "RangeIndex: 49950 entries, 0 to 49949\n",
      "Data columns (total 16 columns):\n",
      " #   Column              Non-Null Count  Dtype  \n",
      "---  ------              --------------  -----  \n",
      " 0   state               49950 non-null  object \n",
      " 1   sex                 49950 non-null  object \n",
      " 2   generalhealth       49797 non-null  object \n",
      " 3   physicalactivities  49839 non-null  object \n",
      " 4   sleephours          49273 non-null  float64\n",
      " 5   hadstroke           49771 non-null  object \n",
      " 6   hadheartattack      49589 non-null  object \n",
      " 7   hadasthma           49754 non-null  object \n",
      " 8   hadkidneydisease    49756 non-null  object \n",
      " 9   haddiabetes         49814 non-null  object \n",
      " 10  smokerstatus        46254 non-null  object \n",
      " 11  agecategory         48981 non-null  object \n",
      " 12  heightinmeters      47028 non-null  float64\n",
      " 13  weightinkilograms   45655 non-null  float64\n",
      " 14  bmi                 44916 non-null  float64\n",
      " 15  alcoholdrinkers     45033 non-null  object \n",
      "dtypes: float64(4), object(12)\n",
      "memory usage: 6.1+ MB\n"
     ]
    }
   ],
   "source": [
    "# detailed information of data\n",
    "df1.info()"
   ]
  },
  {
   "cell_type": "markdown",
   "id": "56d3f201-7592-4542-b36a-9d2612747dd6",
   "metadata": {},
   "source": [
    "# statistical description of data"
   ]
  },
  {
   "cell_type": "code",
   "execution_count": 17,
   "id": "bd4aea17-29bc-4ec6-8bb9-8fe222af0e62",
   "metadata": {},
   "outputs": [
    {
     "data": {
      "text/html": [
       "<div>\n",
       "<style scoped>\n",
       "    .dataframe tbody tr th:only-of-type {\n",
       "        vertical-align: middle;\n",
       "    }\n",
       "\n",
       "    .dataframe tbody tr th {\n",
       "        vertical-align: top;\n",
       "    }\n",
       "\n",
       "    .dataframe thead th {\n",
       "        text-align: right;\n",
       "    }\n",
       "</style>\n",
       "<table border=\"1\" class=\"dataframe\">\n",
       "  <thead>\n",
       "    <tr style=\"text-align: right;\">\n",
       "      <th></th>\n",
       "      <th>sleephours</th>\n",
       "      <th>heightinmeters</th>\n",
       "      <th>weightinkilograms</th>\n",
       "      <th>bmi</th>\n",
       "    </tr>\n",
       "  </thead>\n",
       "  <tbody>\n",
       "    <tr>\n",
       "      <th>count</th>\n",
       "      <td>49273.000000</td>\n",
       "      <td>47028.000000</td>\n",
       "      <td>45655.000000</td>\n",
       "      <td>44916.000000</td>\n",
       "    </tr>\n",
       "    <tr>\n",
       "      <th>mean</th>\n",
       "      <td>7.015546</td>\n",
       "      <td>1.701048</td>\n",
       "      <td>83.069989</td>\n",
       "      <td>28.600993</td>\n",
       "    </tr>\n",
       "    <tr>\n",
       "      <th>std</th>\n",
       "      <td>1.522962</td>\n",
       "      <td>0.107165</td>\n",
       "      <td>21.571516</td>\n",
       "      <td>6.624310</td>\n",
       "    </tr>\n",
       "    <tr>\n",
       "      <th>min</th>\n",
       "      <td>1.000000</td>\n",
       "      <td>0.910000</td>\n",
       "      <td>22.680000</td>\n",
       "      <td>12.060000</td>\n",
       "    </tr>\n",
       "    <tr>\n",
       "      <th>25%</th>\n",
       "      <td>6.000000</td>\n",
       "      <td>1.630000</td>\n",
       "      <td>68.040000</td>\n",
       "      <td>24.130000</td>\n",
       "    </tr>\n",
       "    <tr>\n",
       "      <th>50%</th>\n",
       "      <td>7.000000</td>\n",
       "      <td>1.700000</td>\n",
       "      <td>80.290000</td>\n",
       "      <td>27.440000</td>\n",
       "    </tr>\n",
       "    <tr>\n",
       "      <th>75%</th>\n",
       "      <td>8.000000</td>\n",
       "      <td>1.780000</td>\n",
       "      <td>95.250000</td>\n",
       "      <td>31.870000</td>\n",
       "    </tr>\n",
       "    <tr>\n",
       "      <th>max</th>\n",
       "      <td>24.000000</td>\n",
       "      <td>2.260000</td>\n",
       "      <td>290.300000</td>\n",
       "      <td>93.880000</td>\n",
       "    </tr>\n",
       "  </tbody>\n",
       "</table>\n",
       "</div>"
      ],
      "text/plain": [
       "         sleephours  heightinmeters  weightinkilograms           bmi\n",
       "count  49273.000000    47028.000000       45655.000000  44916.000000\n",
       "mean       7.015546        1.701048          83.069989     28.600993\n",
       "std        1.522962        0.107165          21.571516      6.624310\n",
       "min        1.000000        0.910000          22.680000     12.060000\n",
       "25%        6.000000        1.630000          68.040000     24.130000\n",
       "50%        7.000000        1.700000          80.290000     27.440000\n",
       "75%        8.000000        1.780000          95.250000     31.870000\n",
       "max       24.000000        2.260000         290.300000     93.880000"
      ]
     },
     "execution_count": 17,
     "metadata": {},
     "output_type": "execute_result"
    }
   ],
   "source": [
    "df1.describe()"
   ]
  },
  {
   "cell_type": "code",
   "execution_count": 18,
   "id": "de5d63ef-fdd4-4a64-9e8b-5df6145c4798",
   "metadata": {},
   "outputs": [
    {
     "data": {
      "text/html": [
       "<div>\n",
       "<style scoped>\n",
       "    .dataframe tbody tr th:only-of-type {\n",
       "        vertical-align: middle;\n",
       "    }\n",
       "\n",
       "    .dataframe tbody tr th {\n",
       "        vertical-align: top;\n",
       "    }\n",
       "\n",
       "    .dataframe thead th {\n",
       "        text-align: right;\n",
       "    }\n",
       "</style>\n",
       "<table border=\"1\" class=\"dataframe\">\n",
       "  <thead>\n",
       "    <tr style=\"text-align: right;\">\n",
       "      <th></th>\n",
       "      <th>state</th>\n",
       "      <th>sex</th>\n",
       "      <th>generalhealth</th>\n",
       "      <th>physicalactivities</th>\n",
       "      <th>sleephours</th>\n",
       "      <th>hadstroke</th>\n",
       "      <th>hadheartattack</th>\n",
       "      <th>hadasthma</th>\n",
       "      <th>hadkidneydisease</th>\n",
       "      <th>haddiabetes</th>\n",
       "      <th>smokerstatus</th>\n",
       "      <th>agecategory</th>\n",
       "      <th>heightinmeters</th>\n",
       "      <th>weightinkilograms</th>\n",
       "      <th>bmi</th>\n",
       "      <th>alcoholdrinkers</th>\n",
       "    </tr>\n",
       "  </thead>\n",
       "  <tbody>\n",
       "    <tr>\n",
       "      <th>0</th>\n",
       "      <td>Alabama</td>\n",
       "      <td>Female</td>\n",
       "      <td>Very good</td>\n",
       "      <td>Yes</td>\n",
       "      <td>5.0</td>\n",
       "      <td>No</td>\n",
       "      <td>No</td>\n",
       "      <td>No</td>\n",
       "      <td>No</td>\n",
       "      <td>No</td>\n",
       "      <td>Never smoked</td>\n",
       "      <td>Age 25 to 29</td>\n",
       "      <td>1.57</td>\n",
       "      <td>81.65</td>\n",
       "      <td>32.92</td>\n",
       "      <td>Yes</td>\n",
       "    </tr>\n",
       "    <tr>\n",
       "      <th>1</th>\n",
       "      <td>Alabama</td>\n",
       "      <td>Male</td>\n",
       "      <td>Very good</td>\n",
       "      <td>Yes</td>\n",
       "      <td>7.0</td>\n",
       "      <td>No</td>\n",
       "      <td>No</td>\n",
       "      <td>No</td>\n",
       "      <td>No</td>\n",
       "      <td>No</td>\n",
       "      <td>Never smoked</td>\n",
       "      <td>Age 18 to 24</td>\n",
       "      <td>1.88</td>\n",
       "      <td>102.06</td>\n",
       "      <td>28.89</td>\n",
       "      <td>Yes</td>\n",
       "    </tr>\n",
       "    <tr>\n",
       "      <th>2</th>\n",
       "      <td>Alabama</td>\n",
       "      <td>Female</td>\n",
       "      <td>Excellent</td>\n",
       "      <td>Yes</td>\n",
       "      <td>5.0</td>\n",
       "      <td>No</td>\n",
       "      <td>No</td>\n",
       "      <td>No</td>\n",
       "      <td>No</td>\n",
       "      <td>No</td>\n",
       "      <td>Former smoker</td>\n",
       "      <td>Age 35 to 39</td>\n",
       "      <td>1.57</td>\n",
       "      <td>56.70</td>\n",
       "      <td>22.86</td>\n",
       "      <td>Yes</td>\n",
       "    </tr>\n",
       "    <tr>\n",
       "      <th>3</th>\n",
       "      <td>Alabama</td>\n",
       "      <td>Female</td>\n",
       "      <td>Excellent</td>\n",
       "      <td>Yes</td>\n",
       "      <td>8.0</td>\n",
       "      <td>No</td>\n",
       "      <td>No</td>\n",
       "      <td>No</td>\n",
       "      <td>No</td>\n",
       "      <td>No</td>\n",
       "      <td>Never smoked</td>\n",
       "      <td>Age 55 to 59</td>\n",
       "      <td>1.75</td>\n",
       "      <td>76.66</td>\n",
       "      <td>24.96</td>\n",
       "      <td>No</td>\n",
       "    </tr>\n",
       "    <tr>\n",
       "      <th>4</th>\n",
       "      <td>Alabama</td>\n",
       "      <td>Female</td>\n",
       "      <td>Good</td>\n",
       "      <td>Yes</td>\n",
       "      <td>7.0</td>\n",
       "      <td>No</td>\n",
       "      <td>No</td>\n",
       "      <td>No</td>\n",
       "      <td>No</td>\n",
       "      <td>No</td>\n",
       "      <td>Never smoked</td>\n",
       "      <td>Age 65 to 69</td>\n",
       "      <td>1.63</td>\n",
       "      <td>69.85</td>\n",
       "      <td>26.43</td>\n",
       "      <td>No</td>\n",
       "    </tr>\n",
       "  </tbody>\n",
       "</table>\n",
       "</div>"
      ],
      "text/plain": [
       "     state     sex generalhealth physicalactivities  sleephours hadstroke  \\\n",
       "0  Alabama  Female     Very good                Yes         5.0        No   \n",
       "1  Alabama    Male     Very good                Yes         7.0        No   \n",
       "2  Alabama  Female     Excellent                Yes         5.0        No   \n",
       "3  Alabama  Female     Excellent                Yes         8.0        No   \n",
       "4  Alabama  Female          Good                Yes         7.0        No   \n",
       "\n",
       "  hadheartattack hadasthma hadkidneydisease haddiabetes   smokerstatus  \\\n",
       "0             No        No               No          No   Never smoked   \n",
       "1             No        No               No          No   Never smoked   \n",
       "2             No        No               No          No  Former smoker   \n",
       "3             No        No               No          No   Never smoked   \n",
       "4             No        No               No          No   Never smoked   \n",
       "\n",
       "    agecategory  heightinmeters  weightinkilograms    bmi alcoholdrinkers  \n",
       "0  Age 25 to 29            1.57              81.65  32.92             Yes  \n",
       "1  Age 18 to 24            1.88             102.06  28.89             Yes  \n",
       "2  Age 35 to 39            1.57              56.70  22.86             Yes  \n",
       "3  Age 55 to 59            1.75              76.66  24.96              No  \n",
       "4  Age 65 to 69            1.63              69.85  26.43              No  "
      ]
     },
     "execution_count": 18,
     "metadata": {},
     "output_type": "execute_result"
    }
   ],
   "source": [
    "df1.head()"
   ]
  },
  {
   "cell_type": "code",
   "execution_count": 19,
   "id": "89668c7e-a1a7-41a2-a937-72a7556a4ba5",
   "metadata": {},
   "outputs": [],
   "source": [
    "# replace age in values to ''\n",
    "df1['agecategory'] = df1['agecategory'].str.replace('Age', '')"
   ]
  },
  {
   "cell_type": "code",
   "execution_count": 20,
   "id": "f41adb34-1495-4cc0-b31d-34f28060891a",
   "metadata": {},
   "outputs": [
    {
     "data": {
      "text/html": [
       "<div>\n",
       "<style scoped>\n",
       "    .dataframe tbody tr th:only-of-type {\n",
       "        vertical-align: middle;\n",
       "    }\n",
       "\n",
       "    .dataframe tbody tr th {\n",
       "        vertical-align: top;\n",
       "    }\n",
       "\n",
       "    .dataframe thead th {\n",
       "        text-align: right;\n",
       "    }\n",
       "</style>\n",
       "<table border=\"1\" class=\"dataframe\">\n",
       "  <thead>\n",
       "    <tr style=\"text-align: right;\">\n",
       "      <th></th>\n",
       "      <th>state</th>\n",
       "      <th>sex</th>\n",
       "      <th>generalhealth</th>\n",
       "      <th>physicalactivities</th>\n",
       "      <th>sleephours</th>\n",
       "      <th>hadstroke</th>\n",
       "      <th>hadheartattack</th>\n",
       "      <th>hadasthma</th>\n",
       "      <th>hadkidneydisease</th>\n",
       "      <th>haddiabetes</th>\n",
       "      <th>smokerstatus</th>\n",
       "      <th>agecategory</th>\n",
       "      <th>heightinmeters</th>\n",
       "      <th>weightinkilograms</th>\n",
       "      <th>bmi</th>\n",
       "      <th>alcoholdrinkers</th>\n",
       "    </tr>\n",
       "  </thead>\n",
       "  <tbody>\n",
       "    <tr>\n",
       "      <th>0</th>\n",
       "      <td>Alabama</td>\n",
       "      <td>Female</td>\n",
       "      <td>Very good</td>\n",
       "      <td>Yes</td>\n",
       "      <td>5.0</td>\n",
       "      <td>No</td>\n",
       "      <td>No</td>\n",
       "      <td>No</td>\n",
       "      <td>No</td>\n",
       "      <td>No</td>\n",
       "      <td>Never smoked</td>\n",
       "      <td>25 to 29</td>\n",
       "      <td>1.57</td>\n",
       "      <td>81.65</td>\n",
       "      <td>32.92</td>\n",
       "      <td>Yes</td>\n",
       "    </tr>\n",
       "    <tr>\n",
       "      <th>1</th>\n",
       "      <td>Alabama</td>\n",
       "      <td>Male</td>\n",
       "      <td>Very good</td>\n",
       "      <td>Yes</td>\n",
       "      <td>7.0</td>\n",
       "      <td>No</td>\n",
       "      <td>No</td>\n",
       "      <td>No</td>\n",
       "      <td>No</td>\n",
       "      <td>No</td>\n",
       "      <td>Never smoked</td>\n",
       "      <td>18 to 24</td>\n",
       "      <td>1.88</td>\n",
       "      <td>102.06</td>\n",
       "      <td>28.89</td>\n",
       "      <td>Yes</td>\n",
       "    </tr>\n",
       "    <tr>\n",
       "      <th>2</th>\n",
       "      <td>Alabama</td>\n",
       "      <td>Female</td>\n",
       "      <td>Excellent</td>\n",
       "      <td>Yes</td>\n",
       "      <td>5.0</td>\n",
       "      <td>No</td>\n",
       "      <td>No</td>\n",
       "      <td>No</td>\n",
       "      <td>No</td>\n",
       "      <td>No</td>\n",
       "      <td>Former smoker</td>\n",
       "      <td>35 to 39</td>\n",
       "      <td>1.57</td>\n",
       "      <td>56.70</td>\n",
       "      <td>22.86</td>\n",
       "      <td>Yes</td>\n",
       "    </tr>\n",
       "    <tr>\n",
       "      <th>3</th>\n",
       "      <td>Alabama</td>\n",
       "      <td>Female</td>\n",
       "      <td>Excellent</td>\n",
       "      <td>Yes</td>\n",
       "      <td>8.0</td>\n",
       "      <td>No</td>\n",
       "      <td>No</td>\n",
       "      <td>No</td>\n",
       "      <td>No</td>\n",
       "      <td>No</td>\n",
       "      <td>Never smoked</td>\n",
       "      <td>55 to 59</td>\n",
       "      <td>1.75</td>\n",
       "      <td>76.66</td>\n",
       "      <td>24.96</td>\n",
       "      <td>No</td>\n",
       "    </tr>\n",
       "    <tr>\n",
       "      <th>4</th>\n",
       "      <td>Alabama</td>\n",
       "      <td>Female</td>\n",
       "      <td>Good</td>\n",
       "      <td>Yes</td>\n",
       "      <td>7.0</td>\n",
       "      <td>No</td>\n",
       "      <td>No</td>\n",
       "      <td>No</td>\n",
       "      <td>No</td>\n",
       "      <td>No</td>\n",
       "      <td>Never smoked</td>\n",
       "      <td>65 to 69</td>\n",
       "      <td>1.63</td>\n",
       "      <td>69.85</td>\n",
       "      <td>26.43</td>\n",
       "      <td>No</td>\n",
       "    </tr>\n",
       "  </tbody>\n",
       "</table>\n",
       "</div>"
      ],
      "text/plain": [
       "     state     sex generalhealth physicalactivities  sleephours hadstroke  \\\n",
       "0  Alabama  Female     Very good                Yes         5.0        No   \n",
       "1  Alabama    Male     Very good                Yes         7.0        No   \n",
       "2  Alabama  Female     Excellent                Yes         5.0        No   \n",
       "3  Alabama  Female     Excellent                Yes         8.0        No   \n",
       "4  Alabama  Female          Good                Yes         7.0        No   \n",
       "\n",
       "  hadheartattack hadasthma hadkidneydisease haddiabetes   smokerstatus  \\\n",
       "0             No        No               No          No   Never smoked   \n",
       "1             No        No               No          No   Never smoked   \n",
       "2             No        No               No          No  Former smoker   \n",
       "3             No        No               No          No   Never smoked   \n",
       "4             No        No               No          No   Never smoked   \n",
       "\n",
       "  agecategory  heightinmeters  weightinkilograms    bmi alcoholdrinkers  \n",
       "0    25 to 29            1.57              81.65  32.92             Yes  \n",
       "1    18 to 24            1.88             102.06  28.89             Yes  \n",
       "2    35 to 39            1.57              56.70  22.86             Yes  \n",
       "3    55 to 59            1.75              76.66  24.96              No  \n",
       "4    65 to 69            1.63              69.85  26.43              No  "
      ]
     },
     "execution_count": 20,
     "metadata": {},
     "output_type": "execute_result"
    }
   ],
   "source": [
    "df1.head()"
   ]
  },
  {
   "cell_type": "code",
   "execution_count": 21,
   "id": "18085522-c7b7-4ab4-bc30-842655c7a124",
   "metadata": {},
   "outputs": [
    {
     "data": {
      "text/plain": [
       "sex\n",
       "Female    26768\n",
       "Male      23182\n",
       "Name: count, dtype: int64"
      ]
     },
     "execution_count": 21,
     "metadata": {},
     "output_type": "execute_result"
    }
   ],
   "source": [
    "# category values of sex\n",
    "df1.sex.value_counts()"
   ]
  },
  {
   "cell_type": "code",
   "execution_count": 22,
   "id": "26e2f447-836c-47a2-aef3-c908338edef7",
   "metadata": {},
   "outputs": [
    {
     "data": {
      "text/plain": [
       "generalhealth\n",
       "Good         16350\n",
       "Very good    16187\n",
       "Excellent     7963\n",
       "Fair          7004\n",
       "Poor          2293\n",
       "Name: count, dtype: int64"
      ]
     },
     "execution_count": 22,
     "metadata": {},
     "output_type": "execute_result"
    }
   ],
   "source": [
    "# category of generalhealth\n",
    "df1.generalhealth.value_counts()"
   ]
  },
  {
   "cell_type": "code",
   "execution_count": 23,
   "id": "f31431dd-7a5d-40d2-a3f5-927aa0b7534c",
   "metadata": {},
   "outputs": [
    {
     "data": {
      "text/plain": [
       "physicalactivities\n",
       "Yes    37575\n",
       "No     12264\n",
       "Name: count, dtype: int64"
      ]
     },
     "execution_count": 23,
     "metadata": {},
     "output_type": "execute_result"
    }
   ],
   "source": [
    "# category of physicalactivities\n",
    "df1.physicalactivities.value_counts()"
   ]
  },
  {
   "cell_type": "code",
   "execution_count": 24,
   "id": "2d1bf324-4df8-496d-a194-2f79f201b0de",
   "metadata": {},
   "outputs": [
    {
     "data": {
      "text/plain": [
       "hadstroke\n",
       "No     47462\n",
       "Yes     2309\n",
       "Name: count, dtype: int64"
      ]
     },
     "execution_count": 24,
     "metadata": {},
     "output_type": "execute_result"
    }
   ],
   "source": [
    "# category of stroke\n",
    "df1.hadstroke.value_counts()"
   ]
  },
  {
   "cell_type": "code",
   "execution_count": 25,
   "id": "aee0b605-70ef-48f5-bba0-9e96110a52cc",
   "metadata": {},
   "outputs": [
    {
     "data": {
      "text/plain": [
       "hadheartattack\n",
       "No     46739\n",
       "Yes     2850\n",
       "Name: count, dtype: int64"
      ]
     },
     "execution_count": 25,
     "metadata": {},
     "output_type": "execute_result"
    }
   ],
   "source": [
    "# category of heartattack\n",
    "df1.hadheartattack.value_counts()"
   ]
  },
  {
   "cell_type": "code",
   "execution_count": 26,
   "id": "ea92355a-1fcb-44a6-b57b-351a9f4f9736",
   "metadata": {},
   "outputs": [
    {
     "data": {
      "text/plain": [
       "hadasthma\n",
       "No     42365\n",
       "Yes     7389\n",
       "Name: count, dtype: int64"
      ]
     },
     "execution_count": 26,
     "metadata": {},
     "output_type": "execute_result"
    }
   ],
   "source": [
    "# category of hadasthma\n",
    "df1.hadasthma.value_counts()"
   ]
  },
  {
   "cell_type": "code",
   "execution_count": 27,
   "id": "0e4241e4-0847-4d50-b1a0-227e5ad4b167",
   "metadata": {},
   "outputs": [
    {
     "data": {
      "text/plain": [
       "hadkidneydisease\n",
       "No     47408\n",
       "Yes     2348\n",
       "Name: count, dtype: int64"
      ]
     },
     "execution_count": 27,
     "metadata": {},
     "output_type": "execute_result"
    }
   ],
   "source": [
    "# category of hadkidneydisease\n",
    "df1.hadkidneydisease.value_counts()"
   ]
  },
  {
   "cell_type": "code",
   "execution_count": 28,
   "id": "0a8eef93-50aa-4d38-86e2-013b876cb889",
   "metadata": {},
   "outputs": [
    {
     "data": {
      "text/plain": [
       "haddiabetes\n",
       "No                                         41119\n",
       "Yes                                         7050\n",
       "No, pre-diabetes or borderline diabetes     1199\n",
       "Yes, but only during pregnancy (female)      446\n",
       "Name: count, dtype: int64"
      ]
     },
     "execution_count": 28,
     "metadata": {},
     "output_type": "execute_result"
    }
   ],
   "source": [
    "# category of haddiabetes\n",
    "df1.haddiabetes.value_counts()"
   ]
  },
  {
   "cell_type": "code",
   "execution_count": 29,
   "id": "57fe56d9-85ea-4fd0-bb82-17e02546f909",
   "metadata": {},
   "outputs": [],
   "source": [
    "diabetes = {\n",
    "    'No, pre-diabetes or borderline diabetes': 'borderline_no',\n",
    "    'Yes, but only during pregnancy (female)': 'pregnancy_yes'\n",
    "}\n",
    "df1.haddiabetes = df1['haddiabetes'].replace(diabetes)"
   ]
  },
  {
   "cell_type": "code",
   "execution_count": 30,
   "id": "088f8427-3979-4aec-8d6d-942bdc932826",
   "metadata": {},
   "outputs": [
    {
     "data": {
      "text/plain": [
       "haddiabetes\n",
       "No               41119\n",
       "Yes               7050\n",
       "borderline_no     1199\n",
       "pregnancy_yes      446\n",
       "Name: count, dtype: int64"
      ]
     },
     "execution_count": 30,
     "metadata": {},
     "output_type": "execute_result"
    }
   ],
   "source": [
    "df1.haddiabetes.value_counts()"
   ]
  },
  {
   "cell_type": "code",
   "execution_count": 31,
   "id": "37fce017-9b7e-4821-86e2-711a8fb735d8",
   "metadata": {},
   "outputs": [
    {
     "data": {
      "text/plain": [
       "smokerstatus\n",
       "Never smoked                             27804\n",
       "Former smoker                            12640\n",
       "Current smoker - now smokes every day     4220\n",
       "Current smoker - now smokes some days     1590\n",
       "Name: count, dtype: int64"
      ]
     },
     "execution_count": 31,
     "metadata": {},
     "output_type": "execute_result"
    }
   ],
   "source": [
    "# category of smokerstatus\n",
    "df1.smokerstatus.value_counts()"
   ]
  },
  {
   "cell_type": "code",
   "execution_count": 32,
   "id": "7284dfaa-a7d4-46df-9604-3aef8c637d06",
   "metadata": {},
   "outputs": [],
   "source": [
    "# replace smokerstatus value as required\n",
    "smoker = {\n",
    "    'Never smoked': 'Never',\n",
    "    'Former smoker': 'Former',\n",
    "    'Current smoker - now smokes every day': 'Regular',\n",
    "    'Current smoker - now smokes some days': 'Irregular'\n",
    "}\n",
    "\n",
    "df1.smokerstatus = df1['smokerstatus'].replace(smoker)"
   ]
  },
  {
   "cell_type": "code",
   "execution_count": 33,
   "id": "69abc552-f10f-4594-8f7e-ef541c77a401",
   "metadata": {},
   "outputs": [
    {
     "data": {
      "text/plain": [
       "smokerstatus\n",
       "Never        27804\n",
       "Former       12640\n",
       "Regular       4220\n",
       "Irregular     1590\n",
       "Name: count, dtype: int64"
      ]
     },
     "execution_count": 33,
     "metadata": {},
     "output_type": "execute_result"
    }
   ],
   "source": [
    "df1.smokerstatus.value_counts()"
   ]
  },
  {
   "cell_type": "code",
   "execution_count": 34,
   "id": "2e404f29-3382-4d6a-8c7a-4245d5a86fdb",
   "metadata": {},
   "outputs": [
    {
     "data": {
      "text/plain": [
       "agecategory\n",
       "65 to 69       5356\n",
       "60 to 64       4883\n",
       "70 to 74       4856\n",
       "80 or older    4135\n",
       "55 to 59       4030\n",
       "50 to 54       3799\n",
       "75 to 79       3694\n",
       "40 to 44       3368\n",
       "45 to 49       3267\n",
       "35 to 39       3192\n",
       "18 to 24       3052\n",
       "30 to 34       2869\n",
       "25 to 29       2480\n",
       "Name: count, dtype: int64"
      ]
     },
     "execution_count": 34,
     "metadata": {},
     "output_type": "execute_result"
    }
   ],
   "source": [
    "# category of agecategory\n",
    "df1.agecategory.value_counts()"
   ]
  },
  {
   "cell_type": "code",
   "execution_count": 35,
   "id": "753cdf16-4837-4899-9e2d-30c3b3c5d45c",
   "metadata": {},
   "outputs": [
    {
     "data": {
      "text/html": [
       "<div>\n",
       "<style scoped>\n",
       "    .dataframe tbody tr th:only-of-type {\n",
       "        vertical-align: middle;\n",
       "    }\n",
       "\n",
       "    .dataframe tbody tr th {\n",
       "        vertical-align: top;\n",
       "    }\n",
       "\n",
       "    .dataframe thead th {\n",
       "        text-align: right;\n",
       "    }\n",
       "</style>\n",
       "<table border=\"1\" class=\"dataframe\">\n",
       "  <thead>\n",
       "    <tr style=\"text-align: right;\">\n",
       "      <th></th>\n",
       "      <th>state</th>\n",
       "      <th>sex</th>\n",
       "      <th>generalhealth</th>\n",
       "      <th>physicalactivities</th>\n",
       "      <th>sleephours</th>\n",
       "      <th>hadstroke</th>\n",
       "      <th>hadheartattack</th>\n",
       "      <th>hadasthma</th>\n",
       "      <th>hadkidneydisease</th>\n",
       "      <th>haddiabetes</th>\n",
       "      <th>smokerstatus</th>\n",
       "      <th>agecategory</th>\n",
       "      <th>heightinmeters</th>\n",
       "      <th>weightinkilograms</th>\n",
       "      <th>bmi</th>\n",
       "      <th>alcoholdrinkers</th>\n",
       "    </tr>\n",
       "  </thead>\n",
       "  <tbody>\n",
       "    <tr>\n",
       "      <th>0</th>\n",
       "      <td>Alabama</td>\n",
       "      <td>Female</td>\n",
       "      <td>Very good</td>\n",
       "      <td>Yes</td>\n",
       "      <td>5.0</td>\n",
       "      <td>No</td>\n",
       "      <td>No</td>\n",
       "      <td>No</td>\n",
       "      <td>No</td>\n",
       "      <td>No</td>\n",
       "      <td>Never</td>\n",
       "      <td>25 to 29</td>\n",
       "      <td>1.57</td>\n",
       "      <td>81.65</td>\n",
       "      <td>32.92</td>\n",
       "      <td>Yes</td>\n",
       "    </tr>\n",
       "    <tr>\n",
       "      <th>1</th>\n",
       "      <td>Alabama</td>\n",
       "      <td>Male</td>\n",
       "      <td>Very good</td>\n",
       "      <td>Yes</td>\n",
       "      <td>7.0</td>\n",
       "      <td>No</td>\n",
       "      <td>No</td>\n",
       "      <td>No</td>\n",
       "      <td>No</td>\n",
       "      <td>No</td>\n",
       "      <td>Never</td>\n",
       "      <td>18 to 24</td>\n",
       "      <td>1.88</td>\n",
       "      <td>102.06</td>\n",
       "      <td>28.89</td>\n",
       "      <td>Yes</td>\n",
       "    </tr>\n",
       "    <tr>\n",
       "      <th>2</th>\n",
       "      <td>Alabama</td>\n",
       "      <td>Female</td>\n",
       "      <td>Excellent</td>\n",
       "      <td>Yes</td>\n",
       "      <td>5.0</td>\n",
       "      <td>No</td>\n",
       "      <td>No</td>\n",
       "      <td>No</td>\n",
       "      <td>No</td>\n",
       "      <td>No</td>\n",
       "      <td>Former</td>\n",
       "      <td>35 to 39</td>\n",
       "      <td>1.57</td>\n",
       "      <td>56.70</td>\n",
       "      <td>22.86</td>\n",
       "      <td>Yes</td>\n",
       "    </tr>\n",
       "    <tr>\n",
       "      <th>3</th>\n",
       "      <td>Alabama</td>\n",
       "      <td>Female</td>\n",
       "      <td>Excellent</td>\n",
       "      <td>Yes</td>\n",
       "      <td>8.0</td>\n",
       "      <td>No</td>\n",
       "      <td>No</td>\n",
       "      <td>No</td>\n",
       "      <td>No</td>\n",
       "      <td>No</td>\n",
       "      <td>Never</td>\n",
       "      <td>55 to 59</td>\n",
       "      <td>1.75</td>\n",
       "      <td>76.66</td>\n",
       "      <td>24.96</td>\n",
       "      <td>No</td>\n",
       "    </tr>\n",
       "    <tr>\n",
       "      <th>4</th>\n",
       "      <td>Alabama</td>\n",
       "      <td>Female</td>\n",
       "      <td>Good</td>\n",
       "      <td>Yes</td>\n",
       "      <td>7.0</td>\n",
       "      <td>No</td>\n",
       "      <td>No</td>\n",
       "      <td>No</td>\n",
       "      <td>No</td>\n",
       "      <td>No</td>\n",
       "      <td>Never</td>\n",
       "      <td>65 to 69</td>\n",
       "      <td>1.63</td>\n",
       "      <td>69.85</td>\n",
       "      <td>26.43</td>\n",
       "      <td>No</td>\n",
       "    </tr>\n",
       "  </tbody>\n",
       "</table>\n",
       "</div>"
      ],
      "text/plain": [
       "     state     sex generalhealth physicalactivities  sleephours hadstroke  \\\n",
       "0  Alabama  Female     Very good                Yes         5.0        No   \n",
       "1  Alabama    Male     Very good                Yes         7.0        No   \n",
       "2  Alabama  Female     Excellent                Yes         5.0        No   \n",
       "3  Alabama  Female     Excellent                Yes         8.0        No   \n",
       "4  Alabama  Female          Good                Yes         7.0        No   \n",
       "\n",
       "  hadheartattack hadasthma hadkidneydisease haddiabetes smokerstatus  \\\n",
       "0             No        No               No          No        Never   \n",
       "1             No        No               No          No        Never   \n",
       "2             No        No               No          No       Former   \n",
       "3             No        No               No          No        Never   \n",
       "4             No        No               No          No        Never   \n",
       "\n",
       "  agecategory  heightinmeters  weightinkilograms    bmi alcoholdrinkers  \n",
       "0    25 to 29            1.57              81.65  32.92             Yes  \n",
       "1    18 to 24            1.88             102.06  28.89             Yes  \n",
       "2    35 to 39            1.57              56.70  22.86             Yes  \n",
       "3    55 to 59            1.75              76.66  24.96              No  \n",
       "4    65 to 69            1.63              69.85  26.43              No  "
      ]
     },
     "execution_count": 35,
     "metadata": {},
     "output_type": "execute_result"
    }
   ],
   "source": [
    "df1.head()"
   ]
  },
  {
   "cell_type": "code",
   "execution_count": 36,
   "id": "bc0487c0-2f68-46df-a5b3-62fd0d97d5d5",
   "metadata": {},
   "outputs": [],
   "source": [
    "# change string datatypes values to lowercase\n",
    "df1[df1.select_dtypes('object').columns] = df1.select_dtypes('object').apply(lambda x: x.str.lower())"
   ]
  },
  {
   "cell_type": "code",
   "execution_count": 37,
   "id": "bc8acfef-7640-4b9a-bd8d-5320ebde9079",
   "metadata": {},
   "outputs": [
    {
     "data": {
      "text/html": [
       "<div>\n",
       "<style scoped>\n",
       "    .dataframe tbody tr th:only-of-type {\n",
       "        vertical-align: middle;\n",
       "    }\n",
       "\n",
       "    .dataframe tbody tr th {\n",
       "        vertical-align: top;\n",
       "    }\n",
       "\n",
       "    .dataframe thead th {\n",
       "        text-align: right;\n",
       "    }\n",
       "</style>\n",
       "<table border=\"1\" class=\"dataframe\">\n",
       "  <thead>\n",
       "    <tr style=\"text-align: right;\">\n",
       "      <th></th>\n",
       "      <th>state</th>\n",
       "      <th>sex</th>\n",
       "      <th>generalhealth</th>\n",
       "      <th>physicalactivities</th>\n",
       "      <th>sleephours</th>\n",
       "      <th>hadstroke</th>\n",
       "      <th>hadheartattack</th>\n",
       "      <th>hadasthma</th>\n",
       "      <th>hadkidneydisease</th>\n",
       "      <th>haddiabetes</th>\n",
       "      <th>smokerstatus</th>\n",
       "      <th>agecategory</th>\n",
       "      <th>heightinmeters</th>\n",
       "      <th>weightinkilograms</th>\n",
       "      <th>bmi</th>\n",
       "      <th>alcoholdrinkers</th>\n",
       "    </tr>\n",
       "  </thead>\n",
       "  <tbody>\n",
       "    <tr>\n",
       "      <th>0</th>\n",
       "      <td>alabama</td>\n",
       "      <td>female</td>\n",
       "      <td>very good</td>\n",
       "      <td>yes</td>\n",
       "      <td>5.0</td>\n",
       "      <td>no</td>\n",
       "      <td>no</td>\n",
       "      <td>no</td>\n",
       "      <td>no</td>\n",
       "      <td>no</td>\n",
       "      <td>never</td>\n",
       "      <td>25 to 29</td>\n",
       "      <td>1.57</td>\n",
       "      <td>81.65</td>\n",
       "      <td>32.92</td>\n",
       "      <td>yes</td>\n",
       "    </tr>\n",
       "    <tr>\n",
       "      <th>1</th>\n",
       "      <td>alabama</td>\n",
       "      <td>male</td>\n",
       "      <td>very good</td>\n",
       "      <td>yes</td>\n",
       "      <td>7.0</td>\n",
       "      <td>no</td>\n",
       "      <td>no</td>\n",
       "      <td>no</td>\n",
       "      <td>no</td>\n",
       "      <td>no</td>\n",
       "      <td>never</td>\n",
       "      <td>18 to 24</td>\n",
       "      <td>1.88</td>\n",
       "      <td>102.06</td>\n",
       "      <td>28.89</td>\n",
       "      <td>yes</td>\n",
       "    </tr>\n",
       "    <tr>\n",
       "      <th>2</th>\n",
       "      <td>alabama</td>\n",
       "      <td>female</td>\n",
       "      <td>excellent</td>\n",
       "      <td>yes</td>\n",
       "      <td>5.0</td>\n",
       "      <td>no</td>\n",
       "      <td>no</td>\n",
       "      <td>no</td>\n",
       "      <td>no</td>\n",
       "      <td>no</td>\n",
       "      <td>former</td>\n",
       "      <td>35 to 39</td>\n",
       "      <td>1.57</td>\n",
       "      <td>56.70</td>\n",
       "      <td>22.86</td>\n",
       "      <td>yes</td>\n",
       "    </tr>\n",
       "    <tr>\n",
       "      <th>3</th>\n",
       "      <td>alabama</td>\n",
       "      <td>female</td>\n",
       "      <td>excellent</td>\n",
       "      <td>yes</td>\n",
       "      <td>8.0</td>\n",
       "      <td>no</td>\n",
       "      <td>no</td>\n",
       "      <td>no</td>\n",
       "      <td>no</td>\n",
       "      <td>no</td>\n",
       "      <td>never</td>\n",
       "      <td>55 to 59</td>\n",
       "      <td>1.75</td>\n",
       "      <td>76.66</td>\n",
       "      <td>24.96</td>\n",
       "      <td>no</td>\n",
       "    </tr>\n",
       "    <tr>\n",
       "      <th>4</th>\n",
       "      <td>alabama</td>\n",
       "      <td>female</td>\n",
       "      <td>good</td>\n",
       "      <td>yes</td>\n",
       "      <td>7.0</td>\n",
       "      <td>no</td>\n",
       "      <td>no</td>\n",
       "      <td>no</td>\n",
       "      <td>no</td>\n",
       "      <td>no</td>\n",
       "      <td>never</td>\n",
       "      <td>65 to 69</td>\n",
       "      <td>1.63</td>\n",
       "      <td>69.85</td>\n",
       "      <td>26.43</td>\n",
       "      <td>no</td>\n",
       "    </tr>\n",
       "  </tbody>\n",
       "</table>\n",
       "</div>"
      ],
      "text/plain": [
       "     state     sex generalhealth physicalactivities  sleephours hadstroke  \\\n",
       "0  alabama  female     very good                yes         5.0        no   \n",
       "1  alabama    male     very good                yes         7.0        no   \n",
       "2  alabama  female     excellent                yes         5.0        no   \n",
       "3  alabama  female     excellent                yes         8.0        no   \n",
       "4  alabama  female          good                yes         7.0        no   \n",
       "\n",
       "  hadheartattack hadasthma hadkidneydisease haddiabetes smokerstatus  \\\n",
       "0             no        no               no          no        never   \n",
       "1             no        no               no          no        never   \n",
       "2             no        no               no          no       former   \n",
       "3             no        no               no          no        never   \n",
       "4             no        no               no          no        never   \n",
       "\n",
       "  agecategory  heightinmeters  weightinkilograms    bmi alcoholdrinkers  \n",
       "0    25 to 29            1.57              81.65  32.92             yes  \n",
       "1    18 to 24            1.88             102.06  28.89             yes  \n",
       "2    35 to 39            1.57              56.70  22.86             yes  \n",
       "3    55 to 59            1.75              76.66  24.96              no  \n",
       "4    65 to 69            1.63              69.85  26.43              no  "
      ]
     },
     "execution_count": 37,
     "metadata": {},
     "output_type": "execute_result"
    }
   ],
   "source": [
    "df1.head()"
   ]
  },
  {
   "cell_type": "markdown",
   "id": "086f4715-55b3-4c6c-8147-e772e4966a3e",
   "metadata": {},
   "source": [
    "# Handling Missing Values"
   ]
  },
  {
   "cell_type": "code",
   "execution_count": 38,
   "id": "319e951a-090a-41d1-8551-bf13c123a713",
   "metadata": {},
   "outputs": [
    {
     "data": {
      "text/html": [
       "<div>\n",
       "<style scoped>\n",
       "    .dataframe tbody tr th:only-of-type {\n",
       "        vertical-align: middle;\n",
       "    }\n",
       "\n",
       "    .dataframe tbody tr th {\n",
       "        vertical-align: top;\n",
       "    }\n",
       "\n",
       "    .dataframe thead th {\n",
       "        text-align: right;\n",
       "    }\n",
       "</style>\n",
       "<table border=\"1\" class=\"dataframe\">\n",
       "  <thead>\n",
       "    <tr style=\"text-align: right;\">\n",
       "      <th></th>\n",
       "      <th>0</th>\n",
       "      <th>1</th>\n",
       "    </tr>\n",
       "  </thead>\n",
       "  <tbody>\n",
       "    <tr>\n",
       "      <th>state</th>\n",
       "      <td>0</td>\n",
       "      <td>object</td>\n",
       "    </tr>\n",
       "    <tr>\n",
       "      <th>sex</th>\n",
       "      <td>0</td>\n",
       "      <td>object</td>\n",
       "    </tr>\n",
       "    <tr>\n",
       "      <th>generalhealth</th>\n",
       "      <td>153</td>\n",
       "      <td>object</td>\n",
       "    </tr>\n",
       "    <tr>\n",
       "      <th>physicalactivities</th>\n",
       "      <td>111</td>\n",
       "      <td>object</td>\n",
       "    </tr>\n",
       "    <tr>\n",
       "      <th>sleephours</th>\n",
       "      <td>677</td>\n",
       "      <td>float64</td>\n",
       "    </tr>\n",
       "    <tr>\n",
       "      <th>hadstroke</th>\n",
       "      <td>179</td>\n",
       "      <td>object</td>\n",
       "    </tr>\n",
       "    <tr>\n",
       "      <th>hadheartattack</th>\n",
       "      <td>361</td>\n",
       "      <td>object</td>\n",
       "    </tr>\n",
       "    <tr>\n",
       "      <th>hadasthma</th>\n",
       "      <td>196</td>\n",
       "      <td>object</td>\n",
       "    </tr>\n",
       "    <tr>\n",
       "      <th>hadkidneydisease</th>\n",
       "      <td>194</td>\n",
       "      <td>object</td>\n",
       "    </tr>\n",
       "    <tr>\n",
       "      <th>haddiabetes</th>\n",
       "      <td>136</td>\n",
       "      <td>object</td>\n",
       "    </tr>\n",
       "    <tr>\n",
       "      <th>smokerstatus</th>\n",
       "      <td>3696</td>\n",
       "      <td>object</td>\n",
       "    </tr>\n",
       "    <tr>\n",
       "      <th>agecategory</th>\n",
       "      <td>969</td>\n",
       "      <td>object</td>\n",
       "    </tr>\n",
       "    <tr>\n",
       "      <th>heightinmeters</th>\n",
       "      <td>2922</td>\n",
       "      <td>float64</td>\n",
       "    </tr>\n",
       "    <tr>\n",
       "      <th>weightinkilograms</th>\n",
       "      <td>4295</td>\n",
       "      <td>float64</td>\n",
       "    </tr>\n",
       "    <tr>\n",
       "      <th>bmi</th>\n",
       "      <td>5034</td>\n",
       "      <td>float64</td>\n",
       "    </tr>\n",
       "    <tr>\n",
       "      <th>alcoholdrinkers</th>\n",
       "      <td>4917</td>\n",
       "      <td>object</td>\n",
       "    </tr>\n",
       "  </tbody>\n",
       "</table>\n",
       "</div>"
      ],
      "text/plain": [
       "                       0        1\n",
       "state                  0   object\n",
       "sex                    0   object\n",
       "generalhealth        153   object\n",
       "physicalactivities   111   object\n",
       "sleephours           677  float64\n",
       "hadstroke            179   object\n",
       "hadheartattack       361   object\n",
       "hadasthma            196   object\n",
       "hadkidneydisease     194   object\n",
       "haddiabetes          136   object\n",
       "smokerstatus        3696   object\n",
       "agecategory          969   object\n",
       "heightinmeters      2922  float64\n",
       "weightinkilograms   4295  float64\n",
       "bmi                 5034  float64\n",
       "alcoholdrinkers     4917   object"
      ]
     },
     "execution_count": 38,
     "metadata": {},
     "output_type": "execute_result"
    }
   ],
   "source": [
    "# count null values \n",
    "pd.concat([df1.isna().sum(), df1.dtypes], axis=1)"
   ]
  },
  {
   "cell_type": "code",
   "execution_count": 39,
   "id": "0b36e132-6e38-4ec9-ba0e-54df437bb244",
   "metadata": {},
   "outputs": [],
   "source": [
    "# fill null value of categorical value with the mode of the columns\n",
    "df1[df1.select_dtypes('object').columns] = df1.select_dtypes('object').apply(lambda x: x.fillna(x.mode()[0]))"
   ]
  },
  {
   "cell_type": "code",
   "execution_count": 40,
   "id": "a02ac1bf-e4ce-47d4-a510-599214ba870f",
   "metadata": {},
   "outputs": [],
   "source": [
    "# fill numerical null values with median of the columns\n",
    "df1[df1.select_dtypes('float64').columns] = df1.select_dtypes('float64').apply(lambda x: x.fillna(x.median()))"
   ]
  },
  {
   "cell_type": "code",
   "execution_count": 41,
   "id": "255db0bf-e271-4f29-8e6e-293a7cca3991",
   "metadata": {},
   "outputs": [
    {
     "data": {
      "text/plain": [
       "state                 0\n",
       "sex                   0\n",
       "generalhealth         0\n",
       "physicalactivities    0\n",
       "sleephours            0\n",
       "hadstroke             0\n",
       "hadheartattack        0\n",
       "hadasthma             0\n",
       "hadkidneydisease      0\n",
       "haddiabetes           0\n",
       "smokerstatus          0\n",
       "agecategory           0\n",
       "heightinmeters        0\n",
       "weightinkilograms     0\n",
       "bmi                   0\n",
       "alcoholdrinkers       0\n",
       "dtype: int64"
      ]
     },
     "execution_count": 41,
     "metadata": {},
     "output_type": "execute_result"
    }
   ],
   "source": [
    "# check the null values in the dataframe\n",
    "df1.isnull().sum()"
   ]
  },
  {
   "cell_type": "markdown",
   "id": "379f4aac-126e-444a-ad3d-ef4a3ba56882",
   "metadata": {},
   "source": [
    "# Visualizations"
   ]
  },
  {
   "cell_type": "markdown",
   "id": "fc9a76b5-bbfd-4549-a6aa-868f2a9f2c65",
   "metadata": {},
   "source": [
    "### 1. Which State has most heart attacks?"
   ]
  },
  {
   "cell_type": "code",
   "execution_count": 42,
   "id": "fdb2d8b8-5564-4afa-956a-e4e9d8867e66",
   "metadata": {},
   "outputs": [
    {
     "data": {
      "text/plain": [
       "47100"
      ]
     },
     "execution_count": 42,
     "metadata": {},
     "output_type": "execute_result"
    }
   ],
   "source": [
    "# Not having heart attack counts\n",
    "len(df1[df1['hadheartattack'] == 'no'])"
   ]
  },
  {
   "cell_type": "code",
   "execution_count": 43,
   "id": "2321d644-3c91-4e38-8c3f-dbbe5639819e",
   "metadata": {},
   "outputs": [
    {
     "data": {
      "text/plain": [
       "2850"
      ]
     },
     "execution_count": 43,
     "metadata": {},
     "output_type": "execute_result"
    }
   ],
   "source": [
    "# Having heart attack counts\n",
    "len(df1[df1['hadheartattack'] == 'yes'])"
   ]
  },
  {
   "cell_type": "code",
   "execution_count": 44,
   "id": "1a14baa2-f8af-446b-96d3-a7c94b5d0d8a",
   "metadata": {},
   "outputs": [
    {
     "data": {
      "image/png": "[encoded data removed]",
      "text/plain": [
       "<Figure size 1200x800 with 1 Axes>"
      ]
     },
     "metadata": {},
     "output_type": "display_data"
    }
   ],
   "source": [
    "# filter data who had a heart attack\n",
    "heart_attack_data = df1[df1['hadheartattack'] == 'yes']\n",
    "\n",
    "# count the number of heartattack by state\n",
    "state_heart_attack_counts = heart_attack_data['state'].value_counts()\n",
    "\n",
    "# plotting the heart attack data by state\n",
    "plt.figure(figsize=(12,8))\n",
    "sns.barplot(x=state_heart_attack_counts.index, y=state_heart_attack_counts.values, palette='flare')\n",
    "plt.xticks(rotation=90)\n",
    "plt.title('Number of Heart Attacks per State')\n",
    "plt.xlabel('state')\n",
    "plt.ylabel('Number of Heart Attacks')\n",
    "plt.grid(axis='y')\n",
    "plt.show()"
   ]
  },
  {
   "cell_type": "markdown",
   "id": "83b181fe-7831-4ee2-b5b3-496f5b766898",
   "metadata": {},
   "source": [
    "### 2. Number of Males and Females that had heartattack based on State"
   ]
  },
  {
   "cell_type": "code",
   "execution_count": 45,
   "id": "e4974a27-1a82-4433-87e8-db9d4e30316d",
   "metadata": {},
   "outputs": [
    {
     "data": {
      "text/plain": [
       "47100"
      ]
     },
     "execution_count": 45,
     "metadata": {},
     "output_type": "execute_result"
    }
   ],
   "source": [
    "# Not having heart attack counts\n",
    "len(df1[df1['hadheartattack'] == 'no'])"
   ]
  },
  {
   "cell_type": "code",
   "execution_count": 46,
   "id": "593ca039-fc8e-4f81-88ae-3d6d33c37132",
   "metadata": {},
   "outputs": [
    {
     "data": {
      "text/plain": [
       "2850"
      ]
     },
     "execution_count": 46,
     "metadata": {},
     "output_type": "execute_result"
    }
   ],
   "source": [
    "# Having heart attack counts\n",
    "len(df1[df1['hadheartattack'] == 'yes'])"
   ]
  },
  {
   "cell_type": "code",
   "execution_count": 47,
   "id": "2496015c-0440-4366-9c66-3fffe0ddb7c5",
   "metadata": {},
   "outputs": [
    {
     "data": {
      "text/html": [
       "<div>\n",
       "<style scoped>\n",
       "    .dataframe tbody tr th:only-of-type {\n",
       "        vertical-align: middle;\n",
       "    }\n",
       "\n",
       "    .dataframe tbody tr th {\n",
       "        vertical-align: top;\n",
       "    }\n",
       "\n",
       "    .dataframe thead th {\n",
       "        text-align: right;\n",
       "    }\n",
       "</style>\n",
       "<table border=\"1\" class=\"dataframe\">\n",
       "  <thead>\n",
       "    <tr style=\"text-align: right;\">\n",
       "      <th>sex</th>\n",
       "      <th>state</th>\n",
       "      <th>female</th>\n",
       "      <th>male</th>\n",
       "    </tr>\n",
       "  </thead>\n",
       "  <tbody>\n",
       "    <tr>\n",
       "      <th>0</th>\n",
       "      <td>alabama</td>\n",
       "      <td>32</td>\n",
       "      <td>33</td>\n",
       "    </tr>\n",
       "    <tr>\n",
       "      <th>1</th>\n",
       "      <td>alaska</td>\n",
       "      <td>16</td>\n",
       "      <td>30</td>\n",
       "    </tr>\n",
       "    <tr>\n",
       "      <th>2</th>\n",
       "      <td>arizona</td>\n",
       "      <td>31</td>\n",
       "      <td>35</td>\n",
       "    </tr>\n",
       "    <tr>\n",
       "      <th>3</th>\n",
       "      <td>arkansas</td>\n",
       "      <td>38</td>\n",
       "      <td>59</td>\n",
       "    </tr>\n",
       "    <tr>\n",
       "      <th>4</th>\n",
       "      <td>california</td>\n",
       "      <td>17</td>\n",
       "      <td>17</td>\n",
       "    </tr>\n",
       "  </tbody>\n",
       "</table>\n",
       "</div>"
      ],
      "text/plain": [
       "sex       state  female  male\n",
       "0       alabama      32    33\n",
       "1        alaska      16    30\n",
       "2       arizona      31    35\n",
       "3      arkansas      38    59\n",
       "4    california      17    17"
      ]
     },
     "execution_count": 47,
     "metadata": {},
     "output_type": "execute_result"
    }
   ],
   "source": [
    "# filter data who had a heart attack\n",
    "heart_attack_data = df1[df1['hadheartattack'] == 'yes']\n",
    "\n",
    "# first 5 number of heart attacks per state grouped by sex and reset index to turn state into a column\n",
    "heart_attack_data.groupby(['state', 'sex']).size().unstack().reset_index().head(5)"
   ]
  },
  {
   "cell_type": "code",
   "execution_count": 48,
   "id": "e7791b8d-598c-4baa-ba2d-23c74940e99a",
   "metadata": {},
   "outputs": [
    {
     "data": {
      "text/html": [
       "<div>\n",
       "<style scoped>\n",
       "    .dataframe tbody tr th:only-of-type {\n",
       "        vertical-align: middle;\n",
       "    }\n",
       "\n",
       "    .dataframe tbody tr th {\n",
       "        vertical-align: top;\n",
       "    }\n",
       "\n",
       "    .dataframe thead th {\n",
       "        text-align: right;\n",
       "    }\n",
       "</style>\n",
       "<table border=\"1\" class=\"dataframe\">\n",
       "  <thead>\n",
       "    <tr style=\"text-align: right;\">\n",
       "      <th></th>\n",
       "      <th>state</th>\n",
       "      <th>sex</th>\n",
       "      <th>count</th>\n",
       "    </tr>\n",
       "  </thead>\n",
       "  <tbody>\n",
       "    <tr>\n",
       "      <th>0</th>\n",
       "      <td>alabama</td>\n",
       "      <td>female</td>\n",
       "      <td>32</td>\n",
       "    </tr>\n",
       "    <tr>\n",
       "      <th>1</th>\n",
       "      <td>alaska</td>\n",
       "      <td>female</td>\n",
       "      <td>16</td>\n",
       "    </tr>\n",
       "    <tr>\n",
       "      <th>2</th>\n",
       "      <td>arizona</td>\n",
       "      <td>female</td>\n",
       "      <td>31</td>\n",
       "    </tr>\n",
       "    <tr>\n",
       "      <th>3</th>\n",
       "      <td>arkansas</td>\n",
       "      <td>female</td>\n",
       "      <td>38</td>\n",
       "    </tr>\n",
       "    <tr>\n",
       "      <th>4</th>\n",
       "      <td>california</td>\n",
       "      <td>female</td>\n",
       "      <td>17</td>\n",
       "    </tr>\n",
       "  </tbody>\n",
       "</table>\n",
       "</div>"
      ],
      "text/plain": [
       "        state     sex  count\n",
       "0     alabama  female     32\n",
       "1      alaska  female     16\n",
       "2     arizona  female     31\n",
       "3    arkansas  female     38\n",
       "4  california  female     17"
      ]
     },
     "execution_count": 48,
     "metadata": {},
     "output_type": "execute_result"
    }
   ],
   "source": [
    "# number of heart attacks per state grouped by sex and reset index to turn state into a column\n",
    "grouped_data = heart_attack_data.groupby(['state', 'sex']).size().unstack().reset_index()\n",
    "\n",
    "# first 5 long-formmat with female data first\n",
    "grouped_data.melt(id_vars='state', value_vars=['female', 'male'], var_name='sex', value_name='count').head()"
   ]
  },
  {
   "cell_type": "code",
   "execution_count": 49,
   "id": "16c639d7-f592-49e9-ae47-798648e73e5e",
   "metadata": {},
   "outputs": [
    {
     "data": {
      "text/html": [
       "<div>\n",
       "<style scoped>\n",
       "    .dataframe tbody tr th:only-of-type {\n",
       "        vertical-align: middle;\n",
       "    }\n",
       "\n",
       "    .dataframe tbody tr th {\n",
       "        vertical-align: top;\n",
       "    }\n",
       "\n",
       "    .dataframe thead th {\n",
       "        text-align: right;\n",
       "    }\n",
       "</style>\n",
       "<table border=\"1\" class=\"dataframe\">\n",
       "  <thead>\n",
       "    <tr style=\"text-align: right;\">\n",
       "      <th></th>\n",
       "      <th>state</th>\n",
       "      <th>sex</th>\n",
       "      <th>count</th>\n",
       "    </tr>\n",
       "  </thead>\n",
       "  <tbody>\n",
       "    <tr>\n",
       "      <th>0</th>\n",
       "      <td>alabama</td>\n",
       "      <td>male</td>\n",
       "      <td>33</td>\n",
       "    </tr>\n",
       "    <tr>\n",
       "      <th>1</th>\n",
       "      <td>alaska</td>\n",
       "      <td>male</td>\n",
       "      <td>30</td>\n",
       "    </tr>\n",
       "    <tr>\n",
       "      <th>2</th>\n",
       "      <td>arizona</td>\n",
       "      <td>male</td>\n",
       "      <td>35</td>\n",
       "    </tr>\n",
       "    <tr>\n",
       "      <th>3</th>\n",
       "      <td>arkansas</td>\n",
       "      <td>male</td>\n",
       "      <td>59</td>\n",
       "    </tr>\n",
       "    <tr>\n",
       "      <th>4</th>\n",
       "      <td>california</td>\n",
       "      <td>male</td>\n",
       "      <td>17</td>\n",
       "    </tr>\n",
       "  </tbody>\n",
       "</table>\n",
       "</div>"
      ],
      "text/plain": [
       "        state   sex  count\n",
       "0     alabama  male     33\n",
       "1      alaska  male     30\n",
       "2     arizona  male     35\n",
       "3    arkansas  male     59\n",
       "4  california  male     17"
      ]
     },
     "execution_count": 49,
     "metadata": {},
     "output_type": "execute_result"
    }
   ],
   "source": [
    "# first 5 long-formmat with male data first\n",
    "grouped_data.melt(id_vars='state', value_vars=['male', 'female'], var_name='sex', value_name='count').head()"
   ]
  },
  {
   "cell_type": "code",
   "execution_count": 50,
   "id": "f325b333-e9d8-4fd3-9ce1-ed88a79e1ff6",
   "metadata": {},
   "outputs": [
    {
     "data": {
      "image/png": "[encoded data removed]",
      "text/plain": [
       "<Figure size 1200x800 with 1 Axes>"
      ]
     },
     "metadata": {},
     "output_type": "display_data"
    }
   ],
   "source": [
    "# filter data who had a heart attack\n",
    "heart_attack_data = df1[df1['hadheartattack'] == 'yes']\n",
    "\n",
    "# number of heart attacks per state grouped by sex and reset index to turn state into a column\n",
    "grouped_data = heart_attack_data.groupby(['state', 'sex']).size().unstack().reset_index()\n",
    "\n",
    "# melt converts dataframe into long-formmat for data anlysis and manipulation\n",
    "melted_group_data = grouped_data.melt(id_vars='state', value_vars=['female', 'male'], var_name='sex', value_name='count')\n",
    "\n",
    "# plot the heart attack data per state and grouped by sex\n",
    "plt.figure(figsize=(12,8))\n",
    "sns.barplot(data=melted_group_data, x='state', y='count', hue='sex')\n",
    "plt.xticks(rotation=90)\n",
    "plt.grid(axis='y')\n",
    "plt.title('Number of Heart Attacks by State and Sex')\n",
    "plt.xlabel('State')\n",
    "plt.ylabel('Number of Heart Attacks')\n",
    "plt.show()"
   ]
  },
  {
   "cell_type": "markdown",
   "id": "b90cb1ed-be33-4578-8337-e49ba0d23276",
   "metadata": {},
   "source": [
    "### 3. Relationship between heartattack and sleeping hours, depending upon sex"
   ]
  },
  {
   "cell_type": "code",
   "execution_count": 51,
   "id": "93142f96-bb3c-4912-9f94-b7f02c643d99",
   "metadata": {},
   "outputs": [
    {
     "data": {
      "image/png": "[encoded data removed]",
      "text/plain": [
       "<Figure size 640x480 with 1 Axes>"
      ]
     },
     "metadata": {},
     "output_type": "display_data"
    }
   ],
   "source": [
    "sns.boxplot(data=df1, x='sex', y='sleephours', hue='hadheartattack')\n",
    "plt.title('Relationship Between Heart Attack and Sleeping Hours by Sex')\n",
    "plt.xlabel('Sex')\n",
    "plt.ylabel('Sleep Hours')\n",
    "plt.show()"
   ]
  },
  {
   "cell_type": "markdown",
   "id": "ace0a383-09e9-4d6b-920d-167bcf602aed",
   "metadata": {},
   "source": [
    "### 4. Relationship between heartattack and smoking habit, depending upon gender"
   ]
  },
  {
   "cell_type": "code",
   "execution_count": 52,
   "id": "e344def3-77a6-42b9-ab70-167142fd288e",
   "metadata": {},
   "outputs": [
    {
     "data": {
      "text/plain": [
       "47100"
      ]
     },
     "execution_count": 52,
     "metadata": {},
     "output_type": "execute_result"
    }
   ],
   "source": [
    "# Not having heart attack counts\n",
    "len(df1[df1['hadheartattack'] == 'no'])"
   ]
  },
  {
   "cell_type": "code",
   "execution_count": 53,
   "id": "94eb3f3b-b3b1-4662-a63f-0dc30ff19635",
   "metadata": {},
   "outputs": [
    {
     "data": {
      "text/plain": [
       "2850"
      ]
     },
     "execution_count": 53,
     "metadata": {},
     "output_type": "execute_result"
    }
   ],
   "source": [
    "# Having heart attack counts\n",
    "len(df1[df1['hadheartattack'] == 'yes'])"
   ]
  },
  {
   "cell_type": "code",
   "execution_count": 54,
   "id": "e00f66c5-f85b-4312-9d8a-a518806a26f4",
   "metadata": {},
   "outputs": [
    {
     "data": {
      "text/plain": [
       "hadheartattack  smokerstatus  sex   \n",
       "no              former        female     5715\n",
       "                              male       5804\n",
       "                irregular     female      682\n",
       "                              male        799\n",
       "                never         female    17246\n",
       "                              male      13022\n",
       "                regular       female     1976\n",
       "                              male       1856\n",
       "yes             former        female      391\n",
       "                              male        730\n",
       "                irregular     female       51\n",
       "                              male         58\n",
       "                never         female      570\n",
       "                              male        662\n",
       "                regular       female      137\n",
       "                              male        251\n",
       "dtype: int64"
      ]
     },
     "execution_count": 54,
     "metadata": {},
     "output_type": "execute_result"
    }
   ],
   "source": [
    "# group by of heart attack with smoking habit by sex \n",
    "df1.groupby(['hadheartattack', 'smokerstatus', 'sex']).size()"
   ]
  },
  {
   "cell_type": "code",
   "execution_count": 55,
   "id": "58b72bba-07ad-4d12-ad5f-ebf4b2c54884",
   "metadata": {},
   "outputs": [
    {
     "data": {
      "image/png": "[encoded data removed]",
      "text/plain": [
       "<Figure size 1000x500 with 2 Axes>"
      ]
     },
     "metadata": {},
     "output_type": "display_data"
    }
   ],
   "source": [
    "# filter data with heart attack\n",
    "with_heart_attack_data = df1[df1['hadheartattack'] == 'yes']\n",
    "\n",
    "# filter data without heart attack\n",
    "without_heart_attack_data = df1[df1['hadheartattack'] == 'no']\n",
    "\n",
    "# subplot with 1 row and 2 columns with figure size 10, 5.\n",
    "fig, axes = plt.subplots(1, 2, figsize=(10,5))\n",
    "\n",
    "# plot the data of having heart attack with smoking habit by sex\n",
    "sns.countplot(data=with_heart_attack_data, x='smokerstatus', hue='sex', ax=axes[0], palette='deep')\n",
    "axes[0].set_title('Having Heart Attack with Smoking Habit by Sex')\n",
    "axes[0].set_xlabel('Smoking Habit')\n",
    "axes[0].set_ylabel('Number of data with Heart Attack')\n",
    "axes[0].grid(axis='y')\n",
    "\n",
    "# plot the data of not having heart attack with smoking habit by sex\n",
    "sns.countplot(data=without_heart_attack_data, x='smokerstatus', hue='sex', ax=axes[1], palette='deep')\n",
    "axes[1].set_title('Not Having Heart Attack with Smoking Habit by Sex')\n",
    "axes[1].set_xlabel('Smoking Habit')\n",
    "axes[1].set_ylabel('Number of data without Heart Attack')\n",
    "axes[1].grid(axis='y')\n",
    "\n",
    "plt.tight_layout()\n",
    "plt.show()"
   ]
  },
  {
   "cell_type": "code",
   "execution_count": 56,
   "id": "7d2fecbd-8491-4873-8ebd-6a06222e1b0a",
   "metadata": {},
   "outputs": [],
   "source": [
    "# # filter data who had a heart attack\n",
    "# heart_attack_data = df1[df1['hadheartattack'] == 'yes']\n",
    "\n",
    "# # plot the number of heart attack and smoker status by sex\n",
    "# sns.countplot(data=heart_attack_data, x='smokerstatus', hue='sex', palette='coolwarm')\n",
    "# plt.title('Relationship Between Heart Attack and Smoking Habit by Sex')\n",
    "# plt.xlabel('Smoking Habit')\n",
    "# plt.ylabel('Number of Heart Attacks')\n",
    "# plt.grid(axis='y')\n",
    "# plt.show()"
   ]
  },
  {
   "cell_type": "markdown",
   "id": "6de640e4-619e-45bf-bf6a-861842a13e42",
   "metadata": {},
   "source": [
    "### 5. Relationship between heartattack and drinking habit, depending upon gender"
   ]
  },
  {
   "cell_type": "code",
   "execution_count": 57,
   "id": "0111d159-3e09-4c95-8809-e5e87a6dfc1f",
   "metadata": {},
   "outputs": [
    {
     "data": {
      "text/plain": [
       "47100"
      ]
     },
     "execution_count": 57,
     "metadata": {},
     "output_type": "execute_result"
    }
   ],
   "source": [
    "# Not having heart attack counts\n",
    "len(df1[df1['hadheartattack'] == 'no'])"
   ]
  },
  {
   "cell_type": "code",
   "execution_count": 58,
   "id": "781f2818-3ba6-4142-9589-a39b02554fd4",
   "metadata": {},
   "outputs": [
    {
     "data": {
      "text/plain": [
       "2850"
      ]
     },
     "execution_count": 58,
     "metadata": {},
     "output_type": "execute_result"
    }
   ],
   "source": [
    "# Having heart attack counts\n",
    "len(df1[df1['hadheartattack'] == 'yes'])"
   ]
  },
  {
   "cell_type": "code",
   "execution_count": 59,
   "id": "11c5b4d9-9efb-4e8f-ae32-9d7816b24d5c",
   "metadata": {},
   "outputs": [
    {
     "data": {
      "text/plain": [
       "hadheartattack  alcoholdrinkers  sex   \n",
       "no              no               female    12252\n",
       "                                 male       7975\n",
       "                yes              female    13367\n",
       "                                 male      13506\n",
       "yes             no               female      779\n",
       "                                 male        856\n",
       "                yes              female      370\n",
       "                                 male        845\n",
       "dtype: int64"
      ]
     },
     "execution_count": 59,
     "metadata": {},
     "output_type": "execute_result"
    }
   ],
   "source": [
    "# grouped of data who had heart attack with alcohol habit by sex \n",
    "df1.groupby(['hadheartattack', 'alcoholdrinkers', 'sex']).size()"
   ]
  },
  {
   "cell_type": "code",
   "execution_count": 60,
   "id": "1565cc28-0024-4c47-8918-546a37791c60",
   "metadata": {},
   "outputs": [
    {
     "data": {
      "image/png": "[encoded data removed]",
      "text/plain": [
       "<Figure size 1100x500 with 2 Axes>"
      ]
     },
     "metadata": {},
     "output_type": "display_data"
    }
   ],
   "source": [
    "# filter data with heart attack\n",
    "with_heart_attack_data = df1[df1['hadheartattack'] == 'yes']\n",
    "\n",
    "# filter data without heart attack\n",
    "without_heart_attack_data = df1[df1['hadheartattack'] == 'no']\n",
    "\n",
    "# subplot with 1 row and 2 columns with figure size 11, 5.\n",
    "fig, axes = plt.subplots(1, 2, figsize=(11,5))\n",
    "\n",
    "# plot the data of having heart attack with alcohol drinking habit by sex\n",
    "sns.countplot(data=with_heart_attack_data, x='alcoholdrinkers', hue='sex', ax=axes[0], palette='colorblind')\n",
    "axes[0].set_title('Having Heart Attack with Alcohol Habit by Sex')\n",
    "axes[0].set_xlabel('Alcohol Habit')\n",
    "axes[0].set_ylabel('Number of data with Heart Attack')\n",
    "axes[0].grid(axis='y')\n",
    "\n",
    "# plot the data of not having heart attack with alcohol drinking habit by sex\n",
    "sns.countplot(data=without_heart_attack_data, x='alcoholdrinkers', hue='sex', ax=axes[1], palette='colorblind')\n",
    "axes[1].set_title('Not Having Heart Attack with Alcohol Habit by Sex')\n",
    "axes[1].set_xlabel('Alcohol Habit')\n",
    "axes[1].set_ylabel('Number of data without Heart Attack')\n",
    "axes[1].grid(axis='y')\n",
    "\n",
    "plt.tight_layout()\n",
    "plt.show()"
   ]
  },
  {
   "cell_type": "markdown",
   "id": "62427a27-a375-4069-9451-0d1218813f54",
   "metadata": {},
   "source": [
    "### 6. Does age affects the probability for heartattack ?"
   ]
  },
  {
   "cell_type": "code",
   "execution_count": 61,
   "id": "428809d5-8adb-44e3-9a27-ff28b1ffa4ce",
   "metadata": {},
   "outputs": [
    {
     "data": {
      "text/plain": [
       "2850"
      ]
     },
     "execution_count": 61,
     "metadata": {},
     "output_type": "execute_result"
    }
   ],
   "source": [
    "# Total data of heart attack patient\n",
    "len(df1[df1['hadheartattack'] == 'yes'])"
   ]
  },
  {
   "cell_type": "code",
   "execution_count": 62,
   "id": "8de123fe-840e-4701-b0da-424ce9c1e7b5",
   "metadata": {},
   "outputs": [
    {
     "data": {
      "text/plain": [
       "hadheartattack  agecategory\n",
       "yes             18 to 24        16\n",
       "                25 to 29        11\n",
       "                30 to 34        23\n",
       "                35 to 39        41\n",
       "                40 to 44        55\n",
       "                45 to 49        79\n",
       "                50 to 54       150\n",
       "                55 to 59       221\n",
       "                60 to 64       332\n",
       "                65 to 69       482\n",
       "                70 to 74       437\n",
       "                75 to 79       428\n",
       "                80 or older    575\n",
       "dtype: int64"
      ]
     },
     "execution_count": 62,
     "metadata": {},
     "output_type": "execute_result"
    }
   ],
   "source": [
    "# grouped of data who had heart attack by age category\n",
    "df1[df1['hadheartattack'] == 'yes'].groupby(['hadheartattack', 'agecategory']).size()"
   ]
  },
  {
   "cell_type": "code",
   "execution_count": 63,
   "id": "02c29b40-80d6-41a9-be68-18f15cc67373",
   "metadata": {},
   "outputs": [
    {
     "data": {
      "image/png": "[encoded data removed]",
      "text/plain": [
       "<Figure size 640x480 with 1 Axes>"
      ]
     },
     "metadata": {},
     "output_type": "display_data"
    }
   ],
   "source": [
    "# filter data with heart attack\n",
    "with_heart_attack = df1[df1['hadheartattack'] == 'yes']\n",
    "\n",
    "# count plot for age category and heart attack\n",
    "sns.countplot(data=with_heart_attack, x='agecategory', palette='Paired')\n",
    "plt.title('Distribution of Age Category with Heart Attack')\n",
    "plt.xlabel('Age Category')\n",
    "plt.ylabel('Count of Heart Attack Data')\n",
    "plt.xticks(rotation=90)\n",
    "plt.grid(axis='y')\n",
    "plt.show()"
   ]
  },
  {
   "cell_type": "markdown",
   "id": "b4674d27-141a-4bc2-ab9e-f5851ed0a5b8",
   "metadata": {},
   "source": [
    "### 7. Does diabeties plays any role for heartattack ?"
   ]
  },
  {
   "cell_type": "code",
   "execution_count": 64,
   "id": "574780f7-2103-4fdd-b718-7bc752844674",
   "metadata": {},
   "outputs": [
    {
     "data": {
      "text/plain": [
       "2850"
      ]
     },
     "execution_count": 64,
     "metadata": {},
     "output_type": "execute_result"
    }
   ],
   "source": [
    "# Total data of heart attack patient\n",
    "len(df1[df1['hadheartattack'] == 'yes' ])"
   ]
  },
  {
   "cell_type": "code",
   "execution_count": 65,
   "id": "1f016cae-ea87-459d-9bfe-0c6ad369485d",
   "metadata": {},
   "outputs": [
    {
     "data": {
      "text/plain": [
       "hadheartattack  haddiabetes  \n",
       "yes             borderline_no      92\n",
       "                no               1744\n",
       "                pregnancy_yes       9\n",
       "                yes              1005\n",
       "dtype: int64"
      ]
     },
     "execution_count": 65,
     "metadata": {},
     "output_type": "execute_result"
    }
   ],
   "source": [
    "# grouped of data who had heart attack vs diabetes\n",
    "df1[df1['hadheartattack'] == 'yes' ].groupby(['hadheartattack', 'haddiabetes']).size()"
   ]
  },
  {
   "cell_type": "code",
   "execution_count": 66,
   "id": "926b6c20-41c0-46bb-9c6c-0c48cc8b713f",
   "metadata": {},
   "outputs": [
    {
     "data": {
      "image/png": "[encoded data removed]",
      "text/plain": [
       "<Figure size 640x480 with 1 Axes>"
      ]
     },
     "metadata": {},
     "output_type": "display_data"
    }
   ],
   "source": [
    "# filter data with heart attack\n",
    "with_heart_attack = df1[df1['hadheartattack'] == 'yes']\n",
    "\n",
    "# count plot for heart attack and diabetes\n",
    "sns.countplot(data=with_heart_attack, x='haddiabetes', palette='husl')\n",
    "plt.title('Distribution of Diabetes Patient Having Heart Attack')\n",
    "plt.xlabel('Diabetes')\n",
    "plt.ylabel('Count of Heart Attack Data')\n",
    "plt.xticks(rotation=90)\n",
    "plt.grid(axis='y')\n",
    "plt.show()"
   ]
  },
  {
   "cell_type": "markdown",
   "id": "51569bac-6012-452b-ad3d-f4e1a7f0af8f",
   "metadata": {},
   "source": [
    "### 8. Relationship between stroke and heartattack"
   ]
  },
  {
   "cell_type": "code",
   "execution_count": 100,
   "id": "23d96ff6-b14b-4405-b528-c0ffec281c37",
   "metadata": {},
   "outputs": [
    {
     "data": {
      "text/plain": [
       "hadstroke  hadheartattack\n",
       "no         no                45363\n",
       "           yes                2278\n",
       "yes        no                 1737\n",
       "           yes                 572\n",
       "dtype: int64"
      ]
     },
     "execution_count": 100,
     "metadata": {},
     "output_type": "execute_result"
    }
   ],
   "source": [
    "# grouped of data by stroke and heart attack\n",
    "df1.groupby(['hadstroke', 'hadheartattack']).size()"
   ]
  },
  {
   "cell_type": "code",
   "execution_count": 67,
   "id": "064a4051-9985-4b78-8935-a61bbdd5c4b3",
   "metadata": {},
   "outputs": [
    {
     "data": {
      "image/png": "[encoded data removed]",
      "text/plain": [
       "<Figure size 640x480 with 1 Axes>"
      ]
     },
     "metadata": {},
     "output_type": "display_data"
    }
   ],
   "source": [
    "# count plot for heart attack and stroke\n",
    "sns.countplot(data=df1, x='hadstroke', hue='hadheartattack', palette='Set2')\n",
    "plt.title('Stroke VS Heart Attack')\n",
    "plt.xlabel('Stroke')\n",
    "plt.ylabel('Count of data')\n",
    "plt.xticks(rotation=90)\n",
    "plt.grid(axis='y')\n",
    "plt.legend(title='Heart Attack')\n",
    "plt.show()"
   ]
  },
  {
   "cell_type": "markdown",
   "id": "3d0b81b4-da48-4a15-9839-601d7ab0e499",
   "metadata": {},
   "source": [
    "### 9. Does person who does physical activities has heartattack?"
   ]
  },
  {
   "cell_type": "code",
   "execution_count": 68,
   "id": "a3447bbc-0c5c-4ec8-8501-13b7ce3c5ab0",
   "metadata": {},
   "outputs": [
    {
     "data": {
      "text/plain": [
       "physicalactivities  hadheartattack\n",
       "no                  no                11113\n",
       "                    yes                1151\n",
       "yes                 no                35987\n",
       "                    yes                1699\n",
       "dtype: int64"
      ]
     },
     "execution_count": 68,
     "metadata": {},
     "output_type": "execute_result"
    }
   ],
   "source": [
    "# grouped of data who had heart attack by physicalactivity\n",
    "df1.groupby(['physicalactivities', 'hadheartattack']).size()"
   ]
  },
  {
   "cell_type": "code",
   "execution_count": 69,
   "id": "9e4eacb9-d060-4a31-b2ba-703b928b0f95",
   "metadata": {},
   "outputs": [
    {
     "data": {
      "image/png": "[encoded data removed]",
      "text/plain": [
       "<Figure size 640x480 with 1 Axes>"
      ]
     },
     "metadata": {},
     "output_type": "display_data"
    }
   ],
   "source": [
    "# count plot for heart attack and physical activites\n",
    "sns.countplot(data=df1, x='physicalactivities', hue='hadheartattack', palette='cubehelix')\n",
    "plt.title('Physical Activities VS Heart Attack')\n",
    "plt.xlabel('Physical Activities')\n",
    "plt.ylabel('Count of data')\n",
    "plt.xticks(rotation=90)\n",
    "plt.grid(axis='y')\n",
    "plt.legend(title='Heart Attack')\n",
    "plt.show()"
   ]
  },
  {
   "cell_type": "markdown",
   "id": "57e65295-7fbc-44b3-80a7-f78c1447b2c1",
   "metadata": {},
   "source": [
    "### 10. What is the relationship between BMI and the likelihood of having heart attack, and how does this vary by gender?"
   ]
  },
  {
   "cell_type": "code",
   "execution_count": 70,
   "id": "931d9d63-33d1-4a6e-9165-00a15a0ebb36",
   "metadata": {},
   "outputs": [
    {
     "data": {
      "text/plain": [
       "[]"
      ]
     },
     "execution_count": 70,
     "metadata": {},
     "output_type": "execute_result"
    },
    {
     "data": {
      "image/png": "[encoded data removed]",
      "text/plain": [
       "<Figure size 640x480 with 1 Axes>"
      ]
     },
     "metadata": {},
     "output_type": "display_data"
    }
   ],
   "source": [
    "sns.boxplot(data=df1, x='hadheartattack', y='bmi', hue='sex')\n",
    "plt.title('BMI Distribution by Heart Attack and Gender')\n",
    "plt.xlabel('Had Heart Attack')\n",
    "plt.ylabel('BMI')\n",
    "plt.plot()"
   ]
  },
  {
   "cell_type": "markdown",
   "id": "5acfd0d1-0038-4df9-8cef-57388f6500ec",
   "metadata": {},
   "source": [
    "### 11. Is there a correlation between general health status and the incidence of heart attacks? Does this relationship differ between males and females?"
   ]
  },
  {
   "cell_type": "code",
   "execution_count": 71,
   "id": "b1107a01-b4e9-4a83-8d34-ea8ab4d448f5",
   "metadata": {},
   "outputs": [
    {
     "data": {
      "text/plain": [
       "23182"
      ]
     },
     "execution_count": 71,
     "metadata": {},
     "output_type": "execute_result"
    }
   ],
   "source": [
    "# number of male records\n",
    "len(df1[df1['sex'] == 'male'])"
   ]
  },
  {
   "cell_type": "code",
   "execution_count": 72,
   "id": "ae43a03e-596d-443e-af6f-b7a63d14869d",
   "metadata": {},
   "outputs": [
    {
     "data": {
      "text/plain": [
       "26768"
      ]
     },
     "execution_count": 72,
     "metadata": {},
     "output_type": "execute_result"
    }
   ],
   "source": [
    "# number of female records\n",
    "len(df1[df1['sex'] == 'female'])"
   ]
  },
  {
   "cell_type": "code",
   "execution_count": 73,
   "id": "6bc6b95d-9575-483c-afc3-bd6466764474",
   "metadata": {},
   "outputs": [
    {
     "data": {
      "text/plain": [
       "generalhealth  sex     hadheartattack\n",
       "excellent      female  no                3850\n",
       "                       yes                 35\n",
       "               male    no                3995\n",
       "                       yes                 83\n",
       "fair           female  no                3520\n",
       "                       yes                391\n",
       "               male    no                2616\n",
       "                       yes                477\n",
       "good           female  no                8645\n",
       "                       yes                335\n",
       "               male    no                6943\n",
       "                       yes                580\n",
       "poor           female  no                1013\n",
       "                       yes                222\n",
       "               male    no                 777\n",
       "                       yes                281\n",
       "very good      female  no                8591\n",
       "                       yes                166\n",
       "               male    no                7150\n",
       "                       yes                280\n",
       "dtype: int64"
      ]
     },
     "execution_count": 73,
     "metadata": {},
     "output_type": "execute_result"
    }
   ],
   "source": [
    "# group by the 'generalhealth', 'sex' and 'hadheartattack' columns with size\n",
    "df1.groupby(['generalhealth', 'sex', 'hadheartattack']).size()"
   ]
  },
  {
   "cell_type": "code",
   "execution_count": 74,
   "id": "3c21d9e7-6bf5-4604-a964-9a5c896dfb94",
   "metadata": {},
   "outputs": [
    {
     "data": {
      "image/png": "[encoded data removed]",
      "text/plain": [
       "<Figure size 1100x500 with 2 Axes>"
      ]
     },
     "metadata": {},
     "output_type": "display_data"
    }
   ],
   "source": [
    "# filter data with gender male\n",
    "gender_male = df1[df1['sex'] == 'male']\n",
    "\n",
    "# filter data with gender female\n",
    "gender_female = df1[df1['sex'] == 'female']\n",
    "\n",
    "# subplot with 1 row and 2 columns with figure size 11, 5.\n",
    "fig, axes = plt.subplots(1, 2, figsize=(11,5))\n",
    "\n",
    "# plot the data of male with general health status by heart attack incidence\n",
    "sns.countplot(data=gender_male, x='generalhealth', hue='hadheartattack', ax=axes[0], palette='Accent')\n",
    "axes[0].set_title('General Health Status by Heart Attack Incidence of Male')\n",
    "axes[0].set_xlabel('General Health Status')\n",
    "axes[0].set_ylabel('Male Data Count')\n",
    "axes[0].grid(axis='y')\n",
    "\n",
    "# plot the data of female with general health status by heart attack incidence\n",
    "sns.countplot(data=gender_female, x='generalhealth', hue='hadheartattack', ax=axes[1], palette='Accent')\n",
    "axes[1].set_title('General Health Status by Heart Attack Incidence of Female')\n",
    "axes[1].set_xlabel('General Health Status')\n",
    "axes[1].set_ylabel('Female Data Count')\n",
    "axes[1].grid(axis='y')\n",
    "\n",
    "plt.tight_layout()\n",
    "plt.show()"
   ]
  },
  {
   "cell_type": "markdown",
   "id": "68468157-3f14-48fb-afdd-7b696a304443",
   "metadata": {},
   "source": [
    "### 12. Do individuals with a history of kidney disease have a higher probability of experincing a heart attack? How does this relationship change across different age categories?"
   ]
  },
  {
   "cell_type": "code",
   "execution_count": 75,
   "id": "861e56e3-3c80-40f9-9bf5-6beaafae94f7",
   "metadata": {},
   "outputs": [
    {
     "data": {
      "text/plain": [
       "hadkidneydisease  hadheartattack\n",
       "yes               no                1915\n",
       "                  yes                433\n",
       "dtype: int64"
      ]
     },
     "execution_count": 75,
     "metadata": {},
     "output_type": "execute_result"
    }
   ],
   "source": [
    "# count of indiviual with kidney diesase and heart attack\n",
    "df1[df1['hadkidneydisease'] == 'yes'].groupby(['hadkidneydisease', 'hadheartattack']).size()"
   ]
  },
  {
   "cell_type": "code",
   "execution_count": 76,
   "id": "2d11f8d0-f9d6-4fef-b8ab-4f9034324753",
   "metadata": {},
   "outputs": [
    {
     "data": {
      "text/plain": [
       "[]"
      ]
     },
     "execution_count": 76,
     "metadata": {},
     "output_type": "execute_result"
    },
    {
     "data": {
      "image/png": "[encoded data removed]",
      "text/plain": [
       "<Figure size 640x480 with 1 Axes>"
      ]
     },
     "metadata": {},
     "output_type": "display_data"
    }
   ],
   "source": [
    "# filter data with kidney disease\n",
    "kidney_dieased_patient = df1[df1['hadkidneydisease'] == 'yes' ]\n",
    "\n",
    "# plot the countplot\n",
    "sns.countplot(data=kidney_dieased_patient, x='agecategory', hue='hadheartattack', palette='dark')\n",
    "plt.title('Distribution of Kidney Disease by Heart Attack and Age category')\n",
    "plt.xlabel('Age Category')\n",
    "plt.ylabel('Count of Kidney Diseased Data')\n",
    "plt.xticks(rotation=90)\n",
    "plt.grid(axis='y')\n",
    "plt.legend(title='Had Heart Attack')\n",
    "plt.plot()"
   ]
  },
  {
   "cell_type": "markdown",
   "id": "73e01a09-313f-463b-a3e1-4de8ea71b0da",
   "metadata": {},
   "source": [
    "# Save final dataframe\n",
    "df1.to_csv('df1.csv', index=False)"
   ]
  },
  {
   "cell_type": "markdown",
   "id": "71c13711-7056-4bae-9d1e-3d30d50cc7ad",
   "metadata": {},
   "source": [
    "# Pre-Processing with PySpark"
   ]
  },
  {
   "cell_type": "markdown",
   "id": "4870d73b-10b2-4303-a1ed-ae9f4dda2812",
   "metadata": {},
   "source": [
    "### install pyspark\n",
    "!pip install pyspark"
   ]
  },
  {
   "cell_type": "code",
   "execution_count": 77,
   "id": "dce3a970-255c-420d-af97-631442f227d0",
   "metadata": {},
   "outputs": [],
   "source": [
    "# setup PySpark Session and setup all required dependencies\n",
    "from pyspark.sql import SparkSession\n",
    "from pyspark.sql.functions import col, lower, isnull, sum, count, when, expr\n",
    "from pyspark.sql.types import StringType, DoubleType\n",
    "\n",
    "# create pyspark session\n",
    "spark = SparkSession.builder.appName('HeartDataProcessing').getOrCreate()"
   ]
  },
  {
   "cell_type": "code",
   "execution_count": 78,
   "id": "ba335b5d-d04d-4402-862d-203ec3ad0999",
   "metadata": {},
   "outputs": [
    {
     "data": {
      "text/html": [
       "\n",
       "            <div>\n",
       "                <p><b>SparkSession - in-memory</b></p>\n",
       "                \n",
       "        <div>\n",
       "            <p><b>SparkContext</b></p>\n",
       "\n",
       "            <p><a href=\"http://192.168.1.64:4040\">Spark UI</a></p>\n",
       "\n",
       "            <dl>\n",
       "              <dt>Version</dt>\n",
       "                <dd><code>v3.5.1</code></dd>\n",
       "              <dt>Master</dt>\n",
       "                <dd><code>local[*]</code></dd>\n",
       "              <dt>AppName</dt>\n",
       "                <dd><code>HeartDataProcessing</code></dd>\n",
       "            </dl>\n",
       "        </div>\n",
       "        \n",
       "            </div>\n",
       "        "
      ],
      "text/plain": [
       "<pyspark.sql.session.SparkSession at 0x17bbf47d160>"
      ]
     },
     "execution_count": 78,
     "metadata": {},
     "output_type": "execute_result"
    }
   ],
   "source": [
    "spark"
   ]
  },
  {
   "cell_type": "code",
   "execution_count": 79,
   "id": "5026c262-69fc-4ed3-b2f3-e8ee0293a488",
   "metadata": {},
   "outputs": [],
   "source": [
    "# load the CSV file\n",
    "df_spark = spark.read.csv('heart_2022_with_nans.csv', header=True, inferSchema=True)"
   ]
  },
  {
   "cell_type": "code",
   "execution_count": 80,
   "id": "253ed31c-fe99-4eb0-8905-b169652c9ef1",
   "metadata": {},
   "outputs": [
    {
     "data": {
      "text/plain": [
       "[Row(State='Alabama', Sex='Female', GeneralHealth='Very good', PhysicalHealthDays=0.0, MentalHealthDays=0.0, LastCheckupTime='Within past year (anytime less than 12 months ago)', PhysicalActivities='No', SleepHours=8.0, RemovedTeeth=None, HadHeartAttack='No', HadAngina='No', HadStroke='No', HadAsthma='No', HadSkinCancer='No', HadCOPD='No', HadDepressiveDisorder='No', HadKidneyDisease='No', HadArthritis='No', HadDiabetes='Yes', DeafOrHardOfHearing='No', BlindOrVisionDifficulty='No', DifficultyConcentrating='No', DifficultyWalking='No', DifficultyDressingBathing='No', DifficultyErrands='No', SmokerStatus='Never smoked', ECigaretteUsage='Not at all (right now)', ChestScan='No', RaceEthnicityCategory='White only, Non-Hispanic', AgeCategory='Age 80 or older', HeightInMeters=None, WeightInKilograms=None, BMI=None, AlcoholDrinkers='No', HIVTesting='No', FluVaxLast12='Yes', PneumoVaxEver='No', TetanusLast10Tdap='Yes, received tetanus shot but not sure what type', HighRiskLastYear='No', CovidPos='No'),\n",
       " Row(State='Alabama', Sex='Female', GeneralHealth='Excellent', PhysicalHealthDays=0.0, MentalHealthDays=0.0, LastCheckupTime=None, PhysicalActivities='No', SleepHours=6.0, RemovedTeeth=None, HadHeartAttack='No', HadAngina='No', HadStroke='No', HadAsthma='No', HadSkinCancer='Yes', HadCOPD='No', HadDepressiveDisorder='No', HadKidneyDisease='No', HadArthritis='No', HadDiabetes='No', DeafOrHardOfHearing='No', BlindOrVisionDifficulty='No', DifficultyConcentrating='No', DifficultyWalking='No', DifficultyDressingBathing='No', DifficultyErrands='No', SmokerStatus='Never smoked', ECigaretteUsage='Never used e-cigarettes in my entire life', ChestScan='No', RaceEthnicityCategory='White only, Non-Hispanic', AgeCategory='Age 80 or older', HeightInMeters=1.6, WeightInKilograms=68.04, BMI=26.57, AlcoholDrinkers='No', HIVTesting='No', FluVaxLast12='No', PneumoVaxEver='No', TetanusLast10Tdap='No, did not receive any tetanus shot in the past 10 years', HighRiskLastYear='No', CovidPos='No'),\n",
       " Row(State='Alabama', Sex='Female', GeneralHealth='Very good', PhysicalHealthDays=2.0, MentalHealthDays=3.0, LastCheckupTime='Within past year (anytime less than 12 months ago)', PhysicalActivities='Yes', SleepHours=5.0, RemovedTeeth=None, HadHeartAttack='No', HadAngina='No', HadStroke='No', HadAsthma='No', HadSkinCancer='Yes', HadCOPD='No', HadDepressiveDisorder='No', HadKidneyDisease='No', HadArthritis='No', HadDiabetes='No', DeafOrHardOfHearing='No', BlindOrVisionDifficulty='No', DifficultyConcentrating='No', DifficultyWalking='No', DifficultyDressingBathing='No', DifficultyErrands='No', SmokerStatus='Never smoked', ECigaretteUsage='Never used e-cigarettes in my entire life', ChestScan='No', RaceEthnicityCategory='White only, Non-Hispanic', AgeCategory='Age 55 to 59', HeightInMeters=1.57, WeightInKilograms=63.5, BMI=25.61, AlcoholDrinkers='No', HIVTesting='No', FluVaxLast12='No', PneumoVaxEver='No', TetanusLast10Tdap=None, HighRiskLastYear='No', CovidPos='Yes'),\n",
       " Row(State='Alabama', Sex='Female', GeneralHealth='Excellent', PhysicalHealthDays=0.0, MentalHealthDays=0.0, LastCheckupTime='Within past year (anytime less than 12 months ago)', PhysicalActivities='Yes', SleepHours=7.0, RemovedTeeth=None, HadHeartAttack='No', HadAngina='No', HadStroke='No', HadAsthma='Yes', HadSkinCancer='No', HadCOPD='No', HadDepressiveDisorder='No', HadKidneyDisease='No', HadArthritis='Yes', HadDiabetes='No', DeafOrHardOfHearing='No', BlindOrVisionDifficulty='No', DifficultyConcentrating='No', DifficultyWalking='No', DifficultyDressingBathing='No', DifficultyErrands='No', SmokerStatus='Current smoker - now smokes some days', ECigaretteUsage='Never used e-cigarettes in my entire life', ChestScan='Yes', RaceEthnicityCategory='White only, Non-Hispanic', AgeCategory=None, HeightInMeters=1.65, WeightInKilograms=63.5, BMI=23.3, AlcoholDrinkers='No', HIVTesting='No', FluVaxLast12='Yes', PneumoVaxEver='Yes', TetanusLast10Tdap='No, did not receive any tetanus shot in the past 10 years', HighRiskLastYear='No', CovidPos='No'),\n",
       " Row(State='Alabama', Sex='Female', GeneralHealth='Fair', PhysicalHealthDays=2.0, MentalHealthDays=0.0, LastCheckupTime='Within past year (anytime less than 12 months ago)', PhysicalActivities='Yes', SleepHours=9.0, RemovedTeeth=None, HadHeartAttack='No', HadAngina='No', HadStroke='No', HadAsthma='No', HadSkinCancer='No', HadCOPD='No', HadDepressiveDisorder='No', HadKidneyDisease='No', HadArthritis='No', HadDiabetes='No', DeafOrHardOfHearing='No', BlindOrVisionDifficulty='No', DifficultyConcentrating='No', DifficultyWalking='No', DifficultyDressingBathing='No', DifficultyErrands='No', SmokerStatus='Never smoked', ECigaretteUsage='Never used e-cigarettes in my entire life', ChestScan='Yes', RaceEthnicityCategory='White only, Non-Hispanic', AgeCategory='Age 40 to 44', HeightInMeters=1.57, WeightInKilograms=53.98, BMI=21.77, AlcoholDrinkers='Yes', HIVTesting='No', FluVaxLast12='No', PneumoVaxEver='Yes', TetanusLast10Tdap='No, did not receive any tetanus shot in the past 10 years', HighRiskLastYear='No', CovidPos='No')]"
      ]
     },
     "execution_count": 80,
     "metadata": {},
     "output_type": "execute_result"
    }
   ],
   "source": [
    "# show first 5 rows\n",
    "df_spark.head(5)"
   ]
  },
  {
   "cell_type": "code",
   "execution_count": 81,
   "id": "0c6b6a82-c8c4-4661-ae0b-a3ae69c550df",
   "metadata": {},
   "outputs": [
    {
     "data": {
      "text/plain": [
       "[Row(State='Virgin Islands', Sex='Female', GeneralHealth='Good', PhysicalHealthDays=0.0, MentalHealthDays=3.0, LastCheckupTime='Within past 2 years (1 year but less than 2 years ago)', PhysicalActivities='Yes', SleepHours=6.0, RemovedTeeth='None of them', HadHeartAttack='No', HadAngina='No', HadStroke='No', HadAsthma='Yes', HadSkinCancer='No', HadCOPD='No', HadDepressiveDisorder='Yes', HadKidneyDisease='No', HadArthritis='No', HadDiabetes='No', DeafOrHardOfHearing='No', BlindOrVisionDifficulty='No', DifficultyConcentrating='No', DifficultyWalking='No', DifficultyDressingBathing='No', DifficultyErrands='No', SmokerStatus='Never smoked', ECigaretteUsage='Never used e-cigarettes in my entire life', ChestScan='Yes', RaceEthnicityCategory='Black only, Non-Hispanic', AgeCategory='Age 18 to 24', HeightInMeters=1.65, WeightInKilograms=69.85, BMI=25.63, AlcoholDrinkers=None, HIVTesting='Yes', FluVaxLast12='No', PneumoVaxEver='No', TetanusLast10Tdap='No, did not receive any tetanus shot in the past 10 years', HighRiskLastYear='No', CovidPos='Yes'),\n",
       " Row(State='Virgin Islands', Sex='Female', GeneralHealth='Excellent', PhysicalHealthDays=2.0, MentalHealthDays=2.0, LastCheckupTime='Within past year (anytime less than 12 months ago)', PhysicalActivities='Yes', SleepHours=7.0, RemovedTeeth='None of them', HadHeartAttack='No', HadAngina='No', HadStroke='No', HadAsthma='No', HadSkinCancer='No', HadCOPD='No', HadDepressiveDisorder='No', HadKidneyDisease='No', HadArthritis='No', HadDiabetes='No', DeafOrHardOfHearing='No', BlindOrVisionDifficulty='No', DifficultyConcentrating='No', DifficultyWalking='No', DifficultyDressingBathing='No', DifficultyErrands='No', SmokerStatus='Never smoked', ECigaretteUsage='Never used e-cigarettes in my entire life', ChestScan='No', RaceEthnicityCategory='Black only, Non-Hispanic', AgeCategory='Age 50 to 54', HeightInMeters=1.7, WeightInKilograms=83.01, BMI=28.66, AlcoholDrinkers='No', HIVTesting='Yes', FluVaxLast12='Yes', PneumoVaxEver='No', TetanusLast10Tdap='Yes, received tetanus shot but not sure what type', HighRiskLastYear='No', CovidPos='No'),\n",
       " Row(State='Virgin Islands', Sex='Female', GeneralHealth='Poor', PhysicalHealthDays=30.0, MentalHealthDays=30.0, LastCheckupTime='5 or more years ago', PhysicalActivities='No', SleepHours=5.0, RemovedTeeth='1 to 5', HadHeartAttack='No', HadAngina='No', HadStroke='No', HadAsthma='No', HadSkinCancer='No', HadCOPD='No', HadDepressiveDisorder='No', HadKidneyDisease='No', HadArthritis='No', HadDiabetes='No', DeafOrHardOfHearing='No', BlindOrVisionDifficulty='No', DifficultyConcentrating=None, DifficultyWalking='No', DifficultyDressingBathing='No', DifficultyErrands='No', SmokerStatus='Current smoker - now smokes every day', ECigaretteUsage='Use them some days', ChestScan=None, RaceEthnicityCategory=None, AgeCategory='Age 65 to 69', HeightInMeters=1.7, WeightInKilograms=49.9, BMI=17.23, AlcoholDrinkers=None, HIVTesting='No', FluVaxLast12='No', PneumoVaxEver='No', TetanusLast10Tdap='No, did not receive any tetanus shot in the past 10 years', HighRiskLastYear='No', CovidPos='No'),\n",
       " Row(State='Virgin Islands', Sex='Male', GeneralHealth='Very good', PhysicalHealthDays=0.0, MentalHealthDays=0.0, LastCheckupTime='Within past year (anytime less than 12 months ago)', PhysicalActivities='No', SleepHours=5.0, RemovedTeeth='None of them', HadHeartAttack='Yes', HadAngina='No', HadStroke='No', HadAsthma='Yes', HadSkinCancer='No', HadCOPD='No', HadDepressiveDisorder='No', HadKidneyDisease='No', HadArthritis='No', HadDiabetes='No', DeafOrHardOfHearing='No', BlindOrVisionDifficulty='No', DifficultyConcentrating='No', DifficultyWalking='No', DifficultyDressingBathing='No', DifficultyErrands='No', SmokerStatus='Never smoked', ECigaretteUsage='Never used e-cigarettes in my entire life', ChestScan='Yes', RaceEthnicityCategory='Black only, Non-Hispanic', AgeCategory='Age 70 to 74', HeightInMeters=1.83, WeightInKilograms=108.86, BMI=32.55, AlcoholDrinkers='No', HIVTesting='Yes', FluVaxLast12='Yes', PneumoVaxEver='Yes', TetanusLast10Tdap='No, did not receive any tetanus shot in the past 10 years', HighRiskLastYear='No', CovidPos='Yes'),\n",
       " Row(State='Virgin Islands', Sex='Male', GeneralHealth='Very good', PhysicalHealthDays=0.0, MentalHealthDays=1.0, LastCheckupTime=None, PhysicalActivities='Yes', SleepHours=5.0, RemovedTeeth='None of them', HadHeartAttack='No', HadAngina='No', HadStroke='No', HadAsthma='No', HadSkinCancer='No', HadCOPD='No', HadDepressiveDisorder='No', HadKidneyDisease='No', HadArthritis='No', HadDiabetes='No', DeafOrHardOfHearing='No', BlindOrVisionDifficulty='No', DifficultyConcentrating='Yes', DifficultyWalking='Yes', DifficultyDressingBathing='No', DifficultyErrands='No', SmokerStatus='Former smoker', ECigaretteUsage='Not at all (right now)', ChestScan='Yes', RaceEthnicityCategory='Black only, Non-Hispanic', AgeCategory='Age 40 to 44', HeightInMeters=1.68, WeightInKilograms=63.5, BMI=22.6, AlcoholDrinkers='Yes', HIVTesting='No', FluVaxLast12='No', PneumoVaxEver='No', TetanusLast10Tdap='Yes, received tetanus shot but not sure what type', HighRiskLastYear='No', CovidPos='No')]"
      ]
     },
     "execution_count": 81,
     "metadata": {},
     "output_type": "execute_result"
    }
   ],
   "source": [
    "# last 5 rows\n",
    "df_spark.tail(5)"
   ]
  },
  {
   "cell_type": "code",
   "execution_count": 82,
   "id": "040bbe71-79c1-465f-b756-03ed1ed9f7d2",
   "metadata": {},
   "outputs": [
    {
     "data": {
      "text/plain": [
       "['State',\n",
       " 'Sex',\n",
       " 'GeneralHealth',\n",
       " 'PhysicalHealthDays',\n",
       " 'MentalHealthDays',\n",
       " 'LastCheckupTime',\n",
       " 'PhysicalActivities',\n",
       " 'SleepHours',\n",
       " 'RemovedTeeth',\n",
       " 'HadHeartAttack',\n",
       " 'HadAngina',\n",
       " 'HadStroke',\n",
       " 'HadAsthma',\n",
       " 'HadSkinCancer',\n",
       " 'HadCOPD',\n",
       " 'HadDepressiveDisorder',\n",
       " 'HadKidneyDisease',\n",
       " 'HadArthritis',\n",
       " 'HadDiabetes',\n",
       " 'DeafOrHardOfHearing',\n",
       " 'BlindOrVisionDifficulty',\n",
       " 'DifficultyConcentrating',\n",
       " 'DifficultyWalking',\n",
       " 'DifficultyDressingBathing',\n",
       " 'DifficultyErrands',\n",
       " 'SmokerStatus',\n",
       " 'ECigaretteUsage',\n",
       " 'ChestScan',\n",
       " 'RaceEthnicityCategory',\n",
       " 'AgeCategory',\n",
       " 'HeightInMeters',\n",
       " 'WeightInKilograms',\n",
       " 'BMI',\n",
       " 'AlcoholDrinkers',\n",
       " 'HIVTesting',\n",
       " 'FluVaxLast12',\n",
       " 'PneumoVaxEver',\n",
       " 'TetanusLast10Tdap',\n",
       " 'HighRiskLastYear',\n",
       " 'CovidPos']"
      ]
     },
     "execution_count": 82,
     "metadata": {},
     "output_type": "execute_result"
    }
   ],
   "source": [
    "# columns in dataframe\n",
    "df_spark.columns"
   ]
  },
  {
   "cell_type": "code",
   "execution_count": 83,
   "id": "bd3c6ab8-5ecb-447e-abef-567225a63bef",
   "metadata": {},
   "outputs": [
    {
     "name": "stdout",
     "output_type": "stream",
     "text": [
      "Shape of dataframe: (445132, 40)\n"
     ]
    }
   ],
   "source": [
    "# shape of df_spark (rows, columns)\n",
    "print(f'Shape of dataframe: ({df_spark.count()}, {len(df_spark.columns)})')"
   ]
  },
  {
   "cell_type": "code",
   "execution_count": 84,
   "id": "39ba31ef-1441-4e3a-ba32-70ff7217d602",
   "metadata": {},
   "outputs": [
    {
     "name": "stdout",
     "output_type": "stream",
     "text": [
      "root\n",
      " |-- State: string (nullable = true)\n",
      " |-- Sex: string (nullable = true)\n",
      " |-- GeneralHealth: string (nullable = true)\n",
      " |-- PhysicalHealthDays: double (nullable = true)\n",
      " |-- MentalHealthDays: double (nullable = true)\n",
      " |-- LastCheckupTime: string (nullable = true)\n",
      " |-- PhysicalActivities: string (nullable = true)\n",
      " |-- SleepHours: double (nullable = true)\n",
      " |-- RemovedTeeth: string (nullable = true)\n",
      " |-- HadHeartAttack: string (nullable = true)\n",
      " |-- HadAngina: string (nullable = true)\n",
      " |-- HadStroke: string (nullable = true)\n",
      " |-- HadAsthma: string (nullable = true)\n",
      " |-- HadSkinCancer: string (nullable = true)\n",
      " |-- HadCOPD: string (nullable = true)\n",
      " |-- HadDepressiveDisorder: string (nullable = true)\n",
      " |-- HadKidneyDisease: string (nullable = true)\n",
      " |-- HadArthritis: string (nullable = true)\n",
      " |-- HadDiabetes: string (nullable = true)\n",
      " |-- DeafOrHardOfHearing: string (nullable = true)\n",
      " |-- BlindOrVisionDifficulty: string (nullable = true)\n",
      " |-- DifficultyConcentrating: string (nullable = true)\n",
      " |-- DifficultyWalking: string (nullable = true)\n",
      " |-- DifficultyDressingBathing: string (nullable = true)\n",
      " |-- DifficultyErrands: string (nullable = true)\n",
      " |-- SmokerStatus: string (nullable = true)\n",
      " |-- ECigaretteUsage: string (nullable = true)\n",
      " |-- ChestScan: string (nullable = true)\n",
      " |-- RaceEthnicityCategory: string (nullable = true)\n",
      " |-- AgeCategory: string (nullable = true)\n",
      " |-- HeightInMeters: double (nullable = true)\n",
      " |-- WeightInKilograms: double (nullable = true)\n",
      " |-- BMI: double (nullable = true)\n",
      " |-- AlcoholDrinkers: string (nullable = true)\n",
      " |-- HIVTesting: string (nullable = true)\n",
      " |-- FluVaxLast12: string (nullable = true)\n",
      " |-- PneumoVaxEver: string (nullable = true)\n",
      " |-- TetanusLast10Tdap: string (nullable = true)\n",
      " |-- HighRiskLastYear: string (nullable = true)\n",
      " |-- CovidPos: string (nullable = true)\n",
      "\n"
     ]
    }
   ],
   "source": [
    "# print the schema of the dataframe\n",
    "df_spark.printSchema()"
   ]
  },
  {
   "cell_type": "code",
   "execution_count": 85,
   "id": "3742f682-2541-44b5-ba5f-455c6a83b177",
   "metadata": {},
   "outputs": [
    {
     "data": {
      "text/plain": [
       "[('State', 'string'),\n",
       " ('Sex', 'string'),\n",
       " ('GeneralHealth', 'string'),\n",
       " ('PhysicalHealthDays', 'double'),\n",
       " ('MentalHealthDays', 'double'),\n",
       " ('LastCheckupTime', 'string'),\n",
       " ('PhysicalActivities', 'string'),\n",
       " ('SleepHours', 'double'),\n",
       " ('RemovedTeeth', 'string'),\n",
       " ('HadHeartAttack', 'string'),\n",
       " ('HadAngina', 'string'),\n",
       " ('HadStroke', 'string'),\n",
       " ('HadAsthma', 'string'),\n",
       " ('HadSkinCancer', 'string'),\n",
       " ('HadCOPD', 'string'),\n",
       " ('HadDepressiveDisorder', 'string'),\n",
       " ('HadKidneyDisease', 'string'),\n",
       " ('HadArthritis', 'string'),\n",
       " ('HadDiabetes', 'string'),\n",
       " ('DeafOrHardOfHearing', 'string'),\n",
       " ('BlindOrVisionDifficulty', 'string'),\n",
       " ('DifficultyConcentrating', 'string'),\n",
       " ('DifficultyWalking', 'string'),\n",
       " ('DifficultyDressingBathing', 'string'),\n",
       " ('DifficultyErrands', 'string'),\n",
       " ('SmokerStatus', 'string'),\n",
       " ('ECigaretteUsage', 'string'),\n",
       " ('ChestScan', 'string'),\n",
       " ('RaceEthnicityCategory', 'string'),\n",
       " ('AgeCategory', 'string'),\n",
       " ('HeightInMeters', 'double'),\n",
       " ('WeightInKilograms', 'double'),\n",
       " ('BMI', 'double'),\n",
       " ('AlcoholDrinkers', 'string'),\n",
       " ('HIVTesting', 'string'),\n",
       " ('FluVaxLast12', 'string'),\n",
       " ('PneumoVaxEver', 'string'),\n",
       " ('TetanusLast10Tdap', 'string'),\n",
       " ('HighRiskLastYear', 'string'),\n",
       " ('CovidPos', 'string')]"
      ]
     },
     "execution_count": 85,
     "metadata": {},
     "output_type": "execute_result"
    }
   ],
   "source": [
    "# dataypes of dataframe\n",
    "df_spark.dtypes"
   ]
  },
  {
   "cell_type": "code",
   "execution_count": 86,
   "id": "459badbe-3901-484d-b1ea-adc85fdd4f9a",
   "metadata": {},
   "outputs": [
    {
     "data": {
      "text/plain": [
       "145"
      ]
     },
     "execution_count": 86,
     "metadata": {},
     "output_type": "execute_result"
    }
   ],
   "source": [
    "# number of distinct rows that have duplicates\n",
    "df_spark.groupBy(df_spark.columns).count().filter(col('count') > 1).count()"
   ]
  },
  {
   "cell_type": "code",
   "execution_count": 87,
   "id": "8be41a03-e6fe-4b19-91ce-f32d4b128eb4",
   "metadata": {},
   "outputs": [
    {
     "name": "stdout",
     "output_type": "stream",
     "text": [
      "157\n"
     ]
    }
   ],
   "source": [
    "# dropping duplicates based on all columns\n",
    "df_spark_deduplicated = df_spark.dropDuplicates()\n",
    "\n",
    "# number of rows after deduplication\n",
    "num_rows_after_deduplication = df_spark_deduplicated.count()\n",
    "\n",
    "# calculate the number of rows dropped\n",
    "print(df_spark.count() - num_rows_after_deduplication)"
   ]
  },
  {
   "cell_type": "code",
   "execution_count": 88,
   "id": "486b73d0-c75f-433f-83a8-49b199b716a9",
   "metadata": {},
   "outputs": [
    {
     "name": "stdout",
     "output_type": "stream",
     "text": [
      "Shape of dataframe: (445132, 40)\n"
     ]
    }
   ],
   "source": [
    "# shape of df_spark (rows, columns)\n",
    "print(f'Shape of dataframe: ({df_spark.count()}, {len(df_spark.columns)})')"
   ]
  },
  {
   "cell_type": "code",
   "execution_count": 89,
   "id": "16b8f2b0-10c1-48bf-ba29-97008d0872b4",
   "metadata": {},
   "outputs": [
    {
     "name": "stdout",
     "output_type": "stream",
     "text": [
      "+-------+------+-------------+------------------+----------------+--------------------+------------------+----------+--------------------+--------------+---------+---------+---------+-------------+-------+---------------------+----------------+------------+-----------+-------------------+-----------------------+-----------------------+-----------------+-------------------------+-----------------+--------------------+--------------------+---------+---------------------+---------------+--------------+-----------------+-----+---------------+----------+------------+-------------+--------------------+----------------+--------+\n",
      "|  State|   Sex|GeneralHealth|PhysicalHealthDays|MentalHealthDays|     LastCheckupTime|PhysicalActivities|SleepHours|        RemovedTeeth|HadHeartAttack|HadAngina|HadStroke|HadAsthma|HadSkinCancer|HadCOPD|HadDepressiveDisorder|HadKidneyDisease|HadArthritis|HadDiabetes|DeafOrHardOfHearing|BlindOrVisionDifficulty|DifficultyConcentrating|DifficultyWalking|DifficultyDressingBathing|DifficultyErrands|        SmokerStatus|     ECigaretteUsage|ChestScan|RaceEthnicityCategory|    AgeCategory|HeightInMeters|WeightInKilograms|  BMI|AlcoholDrinkers|HIVTesting|FluVaxLast12|PneumoVaxEver|   TetanusLast10Tdap|HighRiskLastYear|CovidPos|\n",
      "+-------+------+-------------+------------------+----------------+--------------------+------------------+----------+--------------------+--------------+---------+---------+---------+-------------+-------+---------------------+----------------+------------+-----------+-------------------+-----------------------+-----------------------+-----------------+-------------------------+-----------------+--------------------+--------------------+---------+---------------------+---------------+--------------+-----------------+-----+---------------+----------+------------+-------------+--------------------+----------------+--------+\n",
      "|alabama|female|         poor|              30.0|            10.0|within past 2 yea...|                no|      18.0|                 all|            no|       no|       no|       no|           no|    yes|                   no|              no|          no|         no|                 no|                     no|                    yes|               no|                      yes|              yes|       former smoker|never used e-ciga...|      yes| white only, non-h...|age 80 or older|           1.7|            93.89|32.42|             no|        no|          no|          yes|no, did not recei...|              no|      no|\n",
      "|alabama|female|         poor|               5.0|             0.0|within past year ...|                no|       7.0|6 or more, but no...|            no|       no|       no|       no|          yes|     no|                   no|              no|         yes|         no|                 no|                     no|                     no|              yes|                       no|              yes|        never smoked|never used e-ciga...|      yes| white only, non-h...|age 80 or older|          1.57|             94.8|38.23|             no|        no|         yes|          yes|yes, received tet...|              no|      no|\n",
      "|alabama|female|         good|               0.0|             0.0|within past year ...|               yes|       8.0|6 or more, but no...|            no|       no|       no|       no|           no|     no|                   no|              no|         yes|         no|                 no|                     no|                     no|               no|                       no|               no|        never smoked|never used e-ciga...|       no| black only, non-h...|   age 40 to 44|          1.63|            61.23|23.17|             no|       yes|         yes|           no|yes, received tet...|              no|     yes|\n",
      "|alabama|female|    excellent|               0.0|             0.0|within past year ...|               yes|       7.0|        none of them|            no|       no|       no|       no|           no|     no|                   no|              no|          no|         no|                 no|                     no|                     no|               no|                       no|               no|       former smoker|never used e-ciga...|       no| white only, non-h...|   age 50 to 54|          1.63|            68.95|26.09|            yes|       yes|         yes|           no|  yes, received tdap|              no|      no|\n",
      "|alabama|female|    very good|              20.0|             8.0|within past year ...|                no|       7.0|              1 to 5|            no|       no|       no|       no|           no|     no|                   no|              no|          no|         no|                 no|                     no|                     no|              yes|                       no|               no|current smoker - ...|not at all (right...|      yes| white only, non-h...|   age 65 to 69|          1.68|            72.57|25.82|             no|        no|         yes|           no|no, did not recei...|              no|      no|\n",
      "|alabama|female|    very good|               2.0|             0.0|within past year ...|               yes|       8.0|              1 to 5|            no|       no|       no|       no|           no|     no|                   no|              no|          no|         no|                 no|                     no|                     no|               no|                       no|               no|        never smoked|never used e-ciga...|       no| white only, non-h...|   age 75 to 79|          1.63|             63.5|24.03|             no|        no|         yes|          yes|no, did not recei...|              no|     yes|\n",
      "|alabama|  male|    very good|               0.0|             0.0|within past year ...|                no|       9.0|        none of them|            no|       no|       no|       no|           no|     no|                   no|              no|          no|         no|                 no|                     no|                     no|               no|                       no|               no|current smoker - ...|  use them some days|       no| black only, non-h...|   age 65 to 69|          1.83|            86.18|25.77|             no|        no|         yes|          yes|yes, received tet...|              no|      no|\n",
      "|alabama|female|    excellent|               0.0|             5.0|within past year ...|               yes|       7.0|        none of them|            no|       no|       no|       no|           no|     no|                   no|              no|          no|         no|                 no|                     no|                     no|               no|                       no|               no|       former smoker|not at all (right...|      yes| white only, non-h...|   age 55 to 59|          1.75|            67.13|21.86|            yes|       yes|          no|           no|no, did not recei...|              no|      no|\n",
      "|alabama|female|         good|              14.0|             0.0|within past year ...|                no|       8.0|        none of them|            no|       no|       no|       no|           no|     no|                   no|              no|          no|         no|                 no|                     no|                     no|               no|                       no|               no|        never smoked|never used e-ciga...|       no| black only, non-h...|   age 50 to 54|          1.68|            76.66|27.28|             no|       yes|          no|           no|no, did not recei...|              no|      no|\n",
      "|alabama|  male|         good|               0.0|             0.0|within past 5 yea...|               yes|       2.0|        none of them|            no|       no|       no|       no|           no|     no|                   no|              no|          no|         no|                 no|                     no|                     no|               no|                       no|               no|        never smoked|never used e-ciga...|       no| other race only, ...|   age 18 to 24|          1.78|            61.69|19.51|            yes|        no|          no|          yes|  yes, received tdap|             yes|      no|\n",
      "|alabama|  male|    very good|               0.0|             0.0|within past year ...|               yes|       8.0|        none of them|            no|       no|       no|       no|           no|     no|                   no|              no|          no|         no|                 no|                     no|                     no|               no|                       no|               no|       former smoker|not at all (right...|       no| white only, non-h...|   age 50 to 54|          1.83|            99.79|29.84|            yes|        no|          no|          yes|yes, received tet...|              no|     yes|\n",
      "| alaska|  male|         good|               0.0|             0.0|within past year ...|               yes|       7.0|        none of them|            no|       no|       no|       no|           no|    yes|                   no|              no|         yes|         no|                yes|                     no|                     no|               no|                       no|               no|       former smoker|never used e-ciga...|      yes| white only, non-h...|   age 65 to 69|          1.91|            88.45|24.37|            yes|        no|         yes|           no|yes, received tet...|              no|      no|\n",
      "| alaska|  male|    very good|               0.0|             0.0|within past year ...|               yes|       8.0|        none of them|           yes|      yes|      yes|       no|           no|     no|                   no|              no|          no|         no|                 no|                     no|                     no|               no|                       no|               no|       former smoker|never used e-ciga...|      yes| white only, non-h...|   age 65 to 69|          1.83|            83.91|25.09|            yes|        no|          no|           no|  yes, received tdap|              no|      no|\n",
      "| alaska|  male|         good|               0.0|             0.0|within past year ...|               yes|       7.0|              1 to 5|            no|       no|       no|       no|           no|     no|                   no|              no|          no|        yes|                yes|                     no|                     no|               no|                       no|               no|        never smoked|never used e-ciga...|      yes| white only, non-h...|   age 70 to 74|          1.52|            82.55|35.54|             no|        no|          no|           no|yes, received tet...|              no|     yes|\n",
      "| alaska|  male|    very good|               0.0|             0.0|within past year ...|               yes|       6.0|6 or more, but no...|            no|       no|       no|       no|           no|     no|                   no|              no|         yes|         no|                yes|                     no|                    yes|               no|                       no|               no|       former smoker|not at all (right...|      yes| other race only, ...|   age 75 to 79|           1.7|            81.65|28.19|             no|        no|         yes|          yes|yes, received tet...|              no|      no|\n",
      "| alaska|  male|         good|               7.0|             2.0|within past year ...|                no|       8.0|        none of them|            no|       no|       no|      yes|           no|     no|                   no|              no|         yes|         no|                 no|                     no|                     no|               no|                       no|               no|       former smoker|never used e-ciga...|       no| white only, non-h...|   age 65 to 69|          1.83|            95.25|28.48|            yes|        no|         yes|          yes|yes, received tet...|             yes|      no|\n",
      "| alaska|  male|         fair|               5.0|             0.0|within past year ...|               yes|       5.0|              1 to 5|            no|       no|       no|       no|           no|     no|                   no|              no|         yes|         no|                yes|                     no|                     no|               no|                       no|               no|       former smoker|never used e-ciga...|       no| white only, non-h...|   age 60 to 64|           1.7|            81.65|28.19|            yes|        no|          no|           no|yes, received tet...|              no|     yes|\n",
      "| alaska|  male|    very good|               0.0|             3.0|within past 2 yea...|               yes|       7.0|              1 to 5|            no|       no|       no|       no|           no|     no|                   no|              no|          no|         no|                 no|                     no|                     no|               no|                       no|               no|        never smoked|never used e-ciga...|      yes| white only, non-h...|   age 45 to 49|           1.8|            83.91| 25.8|            yes|        no|          no|           no|no, did not recei...|              no|      no|\n",
      "| alaska|  male|         good|               0.0|             0.0|within past year ...|               yes|       6.0|        none of them|            no|       no|       no|       no|           no|     no|                   no|              no|          no|         no|                yes|                     no|                    yes|               no|                       no|               no|       former smoker|never used e-ciga...|      yes| white only, non-h...|   age 70 to 74|          1.73|            68.49|22.96|             no|        no|          no|          yes|  yes, received tdap|              no|     yes|\n",
      "| alaska|female|    excellent|               0.0|             0.0|within past year ...|               yes|       7.0|        none of them|            no|       no|       no|       no|           no|     no|                   no|              no|         yes|         no|                 no|                     no|                     no|               no|                       no|               no|       former smoker|never used e-ciga...|       no| white only, non-h...|   age 55 to 59|          1.63|            65.77|24.89|            yes|       yes|         yes|           no|  yes, received tdap|              no|      no|\n",
      "+-------+------+-------------+------------------+----------------+--------------------+------------------+----------+--------------------+--------------+---------+---------+---------+-------------+-------+---------------------+----------------+------------+-----------+-------------------+-----------------------+-----------------------+-----------------+-------------------------+-----------------+--------------------+--------------------+---------+---------------------+---------------+--------------+-----------------+-----+---------------+----------+------------+-------------+--------------------+----------------+--------+\n",
      "only showing top 20 rows\n",
      "\n"
     ]
    }
   ],
   "source": [
    "string_columns = [field.name for field in df_spark_deduplicated.schema.fields if isinstance(field.dataType, StringType)]\n",
    "\n",
    "# convert all string columns value to lowercase\n",
    "df_spark_lower = df_spark_deduplicated\n",
    "for column in string_columns:\n",
    "    df_spark_lower = df_spark_lower.withColumn(column, lower(col(column)))\n",
    "\n",
    "df_spark_lower.show()"
   ]
  },
  {
   "cell_type": "markdown",
   "id": "2e772db7-5fda-4cb3-93bb-966e3ca58a9b",
   "metadata": {},
   "source": [
    "# Handling missing values"
   ]
  },
  {
   "cell_type": "code",
   "execution_count": 90,
   "id": "a09080c8-f4b9-40b9-a78b-6bd8752f8663",
   "metadata": {},
   "outputs": [
    {
     "name": "stdout",
     "output_type": "stream",
     "text": [
      "+-----+---+-------------+------------------+----------------+---------------+------------------+----------+------------+--------------+---------+---------+---------+-------------+-------+---------------------+----------------+------------+-----------+-------------------+-----------------------+-----------------------+-----------------+-------------------------+-----------------+------------+---------------+---------+---------------------+-----------+--------------+-----------------+-----+---------------+----------+------------+-------------+-----------------+----------------+--------+\n",
      "|State|Sex|GeneralHealth|PhysicalHealthDays|MentalHealthDays|LastCheckupTime|PhysicalActivities|SleepHours|RemovedTeeth|HadHeartAttack|HadAngina|HadStroke|HadAsthma|HadSkinCancer|HadCOPD|HadDepressiveDisorder|HadKidneyDisease|HadArthritis|HadDiabetes|DeafOrHardOfHearing|BlindOrVisionDifficulty|DifficultyConcentrating|DifficultyWalking|DifficultyDressingBathing|DifficultyErrands|SmokerStatus|ECigaretteUsage|ChestScan|RaceEthnicityCategory|AgeCategory|HeightInMeters|WeightInKilograms|  BMI|AlcoholDrinkers|HIVTesting|FluVaxLast12|PneumoVaxEver|TetanusLast10Tdap|HighRiskLastYear|CovidPos|\n",
      "+-----+---+-------------+------------------+----------------+---------------+------------------+----------+------------+--------------+---------+---------+---------+-------------+-------+---------------------+----------------+------------+-----------+-------------------+-----------------------+-----------------------+-----------------+-------------------------+-----------------+------------+---------------+---------+---------------------+-----------+--------------+-----------------+-----+---------------+----------+------------+-------------+-----------------+----------------+--------+\n",
      "|    0|  0|         1193|             10922|            9062|           8301|              1088|      5448|       11355|          3060|     4400|     1552|     1768|         3138|   2214|                 2807|            1921|        2628|       1082|              20502|                  21419|                  24095|            23867|                    23770|            25511|       35316|          35514|    55900|                14048|       9069|         28505|            41931|48659|          46428|     65981|       46975|        76894|            82370|           50477|   50618|\n",
      "+-----+---+-------------+------------------+----------------+---------------+------------------+----------+------------+--------------+---------+---------+---------+-------------+-------+---------------------+----------------+------------+-----------+-------------------+-----------------------+-----------------------+-----------------+-------------------------+-----------------+------------+---------------+---------+---------------------+-----------+--------------+-----------------+-----+---------------+----------+------------+-------------+-----------------+----------------+--------+\n",
      "\n"
     ]
    }
   ],
   "source": [
    "# count missing values in each column\n",
    "df_spark_lower.select([sum(isnull(col(c)).cast('int')).alias(c) for c in df_spark_lower.columns]).show()"
   ]
  },
  {
   "cell_type": "code",
   "execution_count": 91,
   "id": "f218e9e7-ca15-400e-bf65-5f555a072629",
   "metadata": {},
   "outputs": [
    {
     "name": "stdout",
     "output_type": "stream",
     "text": [
      "Columns with data greater than threshold:40\n",
      " ['State', 'Sex', 'GeneralHealth', 'PhysicalHealthDays', 'MentalHealthDays', 'LastCheckupTime', 'PhysicalActivities', 'SleepHours', 'RemovedTeeth', 'HadHeartAttack', 'HadAngina', 'HadStroke', 'HadAsthma', 'HadSkinCancer', 'HadCOPD', 'HadDepressiveDisorder', 'HadKidneyDisease', 'HadArthritis', 'HadDiabetes', 'DeafOrHardOfHearing', 'BlindOrVisionDifficulty', 'DifficultyConcentrating', 'DifficultyWalking', 'DifficultyDressingBathing', 'DifficultyErrands', 'SmokerStatus', 'ECigaretteUsage', 'ChestScan', 'RaceEthnicityCategory', 'AgeCategory', 'HeightInMeters', 'WeightInKilograms', 'BMI', 'AlcoholDrinkers', 'HIVTesting', 'FluVaxLast12', 'PneumoVaxEver', 'TetanusLast10Tdap', 'HighRiskLastYear', 'CovidPos']\n"
     ]
    }
   ],
   "source": [
    "# define threshold for missing data\n",
    "threshold = df_spark_lower.count() * 0.7\n",
    "# print(threshold)\n",
    "\n",
    "# calculate the number of non-null values fro each column\n",
    "non_null_counts = df_spark_lower.select([\n",
    "    count(when(col(c).isNotNull(), col(c))).alias(c) for c in df_spark_lower.columns\n",
    "])\n",
    "\n",
    "# collect non-null counts as a dictionary\n",
    "non_null_counts_dict = non_null_counts.collect()[0].asDict()\n",
    "# print(non_null_counts_dict)\n",
    "\n",
    "# determine which columns to keep\n",
    "columns_to_keep = [c for c in non_null_counts_dict if non_null_counts_dict[c] > threshold]\n",
    "# print(columns_to_keep)\n",
    "\n",
    "# create a new dataframe with only the columns that meet the threshold\n",
    "if columns_to_keep:\n",
    "    df_spark_missing_value = df_spark_lower.select(*columns_to_keep)\n",
    "    # remaining columns\n",
    "    print(f'Columns with data greater than threshold:{len(df_spark_missing_value.columns)}\\n {df_spark_missing_value.columns}')\n",
    "else:\n",
    "    print('DataFrame is Empty')"
   ]
  },
  {
   "cell_type": "code",
   "execution_count": 92,
   "id": "27611f54-c3a3-4bd6-b681-bae5218eedd0",
   "metadata": {},
   "outputs": [
    {
     "name": "stdout",
     "output_type": "stream",
     "text": [
      "Shape of dataframe: (445132, 40)\n"
     ]
    }
   ],
   "source": [
    "# shape of df_spark (rows, columns)\n",
    "print(f'Shape of dataframe: ({df_spark.count()}, {len(df_spark.columns)})')"
   ]
  },
  {
   "cell_type": "code",
   "execution_count": 93,
   "id": "ccbb915c-0639-4e87-8bd1-4aabcfeab9c8",
   "metadata": {},
   "outputs": [
    {
     "name": "stdout",
     "output_type": "stream",
     "text": [
      "+-----+---+-------------+------------------+----------------+---------------+------------------+----------+------------+--------------+---------+---------+---------+-------------+-------+---------------------+----------------+------------+-----------+-------------------+-----------------------+-----------------------+-----------------+-------------------------+-----------------+------------+---------------+---------+---------------------+-----------+--------------+-----------------+---+---------------+----------+------------+-------------+-----------------+----------------+--------+\n",
      "|State|Sex|GeneralHealth|PhysicalHealthDays|MentalHealthDays|LastCheckupTime|PhysicalActivities|SleepHours|RemovedTeeth|HadHeartAttack|HadAngina|HadStroke|HadAsthma|HadSkinCancer|HadCOPD|HadDepressiveDisorder|HadKidneyDisease|HadArthritis|HadDiabetes|DeafOrHardOfHearing|BlindOrVisionDifficulty|DifficultyConcentrating|DifficultyWalking|DifficultyDressingBathing|DifficultyErrands|SmokerStatus|ECigaretteUsage|ChestScan|RaceEthnicityCategory|AgeCategory|HeightInMeters|WeightInKilograms|BMI|AlcoholDrinkers|HIVTesting|FluVaxLast12|PneumoVaxEver|TetanusLast10Tdap|HighRiskLastYear|CovidPos|\n",
      "+-----+---+-------------+------------------+----------------+---------------+------------------+----------+------------+--------------+---------+---------+---------+-------------+-------+---------------------+----------------+------------+-----------+-------------------+-----------------------+-----------------------+-----------------+-------------------------+-----------------+------------+---------------+---------+---------------------+-----------+--------------+-----------------+---+---------------+----------+------------+-------------+-----------------+----------------+--------+\n",
      "|    0|  0|            0|                 0|               0|              0|                 0|         0|           0|             0|        0|        0|        0|            0|      0|                    0|               0|           0|          0|                  0|                      0|                      0|                0|                        0|                0|           0|              0|        0|                    0|          0|             0|                0|  0|              0|         0|           0|            0|                0|               0|       0|\n",
      "+-----+---+-------------+------------------+----------------+---------------+------------------+----------+------------+--------------+---------+---------+---------+-------------+-------+---------------------+----------------+------------+-----------+-------------------+-----------------------+-----------------------+-----------------+-------------------------+-----------------+------------+---------------+---------+---------------------+-----------+--------------+-----------------+---+---------------+----------+------------+-------------+-----------------+----------------+--------+\n",
      "\n"
     ]
    }
   ],
   "source": [
    "# since dataframe has more than 70% data. Instead of dropping the column fill the column with suitable measures\n",
    "# handling missing values for string columns\n",
    "string_columns = [field.name for field in df_spark_missing_value.schema.fields if isinstance(field.dataType, StringType)]\n",
    "\n",
    "for column in string_columns:\n",
    "    # calculate mode for each string column\n",
    "    mode_value = df_spark_missing_value.groupBy(column).count().orderBy('count', ascending=False).first()[0]\n",
    "    df_spark_missing_value = df_spark_missing_value.fillna({column: mode_value})\n",
    "\n",
    "double_columns = [field.name for field in df_spark_missing_value.schema.fields if isinstance(field.dataType, DoubleType)]\n",
    "\n",
    "for column in double_columns:\n",
    "    # calculate median for Double type column\n",
    "    median_value = df_spark_missing_value.select(expr(f'percentile_approx({column}, 0.5)').alias('median_value')).first()[0]\n",
    "    df_spark_missing_value = df_spark_missing_value.fillna({column: median_value})\n",
    "\n",
    "# count missing values in each column\n",
    "df_spark_missing_value.select([sum(isnull(col(c)).cast('int')).alias(c) for c in df_spark_missing_value.columns]).show()"
   ]
  },
  {
   "cell_type": "code",
   "execution_count": 94,
   "id": "9cff746c-6253-4077-afed-9c877f0ec1d4",
   "metadata": {},
   "outputs": [
    {
     "name": "stdout",
     "output_type": "stream",
     "text": [
      "+-------+------------------+-----------------+------------------+-------------------+------------------+------------------+\n",
      "|summary|PhysicalHealthDays| MentalHealthDays|        SleepHours|     HeightInMeters| WeightInKilograms|               BMI|\n",
      "+-------+------------------+-----------------+------------------+-------------------+------------------+------------------+\n",
      "|  count|            444975|           444975|            444975|             444975|            444975|            444975|\n",
      "|   mean| 4.242615877296477|4.294879487611664| 7.022628237541435| 1.7025180291027509| 82.85463421542254|28.410722939487776|\n",
      "| stddev| 8.609001907838458|8.325745362839383|1.4933930464434881|0.10369003279878639|20.424073476481045|  6.19548958537514|\n",
      "|    min|               0.0|              0.0|               1.0|               0.91|             22.68|             12.02|\n",
      "|    max|              30.0|             30.0|              24.0|               2.41|            292.57|             99.64|\n",
      "+-------+------------------+-----------------+------------------+-------------------+------------------+------------------+\n",
      "\n"
     ]
    }
   ],
   "source": [
    "# Statistical summary of numerical columns\n",
    "df_spark_missing_value.select('PhysicalHealthDays', 'MentalHealthDays', 'SleepHours', 'HeightInMeters', 'WeightInKilograms', 'BMI').describe().show()"
   ]
  },
  {
   "cell_type": "code",
   "execution_count": 95,
   "id": "d0b64beb-fbc4-42df-ab83-84facaf9d206",
   "metadata": {},
   "outputs": [
    {
     "name": "stdout",
     "output_type": "stream",
     "text": [
      "+------+------+\n",
      "|   Sex| count|\n",
      "+------+------+\n",
      "|  male|209152|\n",
      "|female|235823|\n",
      "+------+------+\n",
      "\n"
     ]
    }
   ],
   "source": [
    "# category values of sex\n",
    "df_spark_missing_value.groupBy('Sex').count().orderBy('count').show()"
   ]
  },
  {
   "cell_type": "code",
   "execution_count": 96,
   "id": "0569fa61-c297-4ac0-9cf9-dec6f3b494cd",
   "metadata": {},
   "outputs": [
    {
     "name": "stdout",
     "output_type": "stream",
     "text": [
      "+-------------+------+\n",
      "|GeneralHealth| count|\n",
      "+-------------+------+\n",
      "|    very good|149565|\n",
      "|         good|143576|\n",
      "|    excellent| 71821|\n",
      "|         fair| 60272|\n",
      "|         poor| 19741|\n",
      "+-------------+------+\n",
      "\n"
     ]
    }
   ],
   "source": [
    "# category values of GeneralHealth\n",
    "df_spark_missing_value.groupBy('GeneralHealth').count().orderBy('count', ascending=False).show()"
   ]
  },
  {
   "cell_type": "code",
   "execution_count": 97,
   "id": "0c6b6a4d-52b9-4729-9c30-454a344b68af",
   "metadata": {},
   "outputs": [
    {
     "name": "stdout",
     "output_type": "stream",
     "text": [
      "+--------------+------+\n",
      "|HadHeartAttack| count|\n",
      "+--------------+------+\n",
      "|            no|419867|\n",
      "|           yes| 25108|\n",
      "+--------------+------+\n",
      "\n"
     ]
    }
   ],
   "source": [
    "# category values of HadHeartAttack\n",
    "df_spark_missing_value.groupBy('HadHeartAttack').count().orderBy('count', ascending=False).show()"
   ]
  },
  {
   "cell_type": "code",
   "execution_count": 98,
   "id": "eb90dad7-a9a9-48b7-8fb4-2692292dcfa7",
   "metadata": {},
   "outputs": [
    {
     "name": "stdout",
     "output_type": "stream",
     "text": [
      "+---------+------+\n",
      "|HadStroke| count|\n",
      "+---------+------+\n",
      "|       no|425737|\n",
      "|      yes| 19238|\n",
      "+---------+------+\n",
      "\n"
     ]
    }
   ],
   "source": [
    "# category values of HadStroke\n",
    "df_spark_missing_value.groupBy('HadStroke').count().orderBy('count', ascending=False).show()"
   ]
  },
  {
   "cell_type": "code",
   "execution_count": 99,
   "id": "aa921b80-51ca-4cbd-8579-fbd6661a29f1",
   "metadata": {},
   "outputs": [
    {
     "name": "stdout",
     "output_type": "stream",
     "text": [
      "+---------------+------+\n",
      "|AlcoholDrinkers| count|\n",
      "+---------------+------+\n",
      "|            yes|257309|\n",
      "|             no|187666|\n",
      "+---------------+------+\n",
      "\n"
     ]
    }
   ],
   "source": [
    "# category values of AlcoholDrinkers\n",
    "df_spark_missing_value.groupBy('AlcoholDrinkers').count().orderBy('count', ascending=False).show()"
   ]
  },
  {
   "cell_type": "code",
   "execution_count": null,
   "id": "8fa85da7-a5a0-462d-84df-d4a3c475e33a",
   "metadata": {},
   "outputs": [],
   "source": []
  },
  {
   "cell_type": "code",
   "execution_count": null,
   "id": "74653489-9086-44eb-8dcb-ea5907a7a825",
   "metadata": {},
   "outputs": [],
   "source": []
  }
 ],
 "metadata": {
  "kernelspec": {
   "display_name": "Python 3 (ipykernel)",
   "language": "python",
   "name": "python3"
  },
  "language_info": {
   "codemirror_mode": {
    "name": "ipython",
    "version": 3
   },
   "file_extension": ".py",
   "mimetype": "text/x-python",
   "name": "python",
   "nbconvert_exporter": "python",
   "pygments_lexer": "ipython3",
   "version": "3.9.19"
  }
 },
 "nbformat": 4,
 "nbformat_minor": 5
}
